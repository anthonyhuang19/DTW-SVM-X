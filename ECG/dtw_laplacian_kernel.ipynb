{
 "cells": [
  {
   "cell_type": "code",
   "execution_count": 1,
   "id": "aee0f75b-7d37-447f-8bac-054896ec1bc8",
   "metadata": {},
   "outputs": [],
   "source": [
    "import numpy as np\n",
    "import pandas as pd\n",
    "from sklearn.svm import SVC\n",
    "from sklearn import metrics\n",
    "from sklearn.metrics.pairwise import pairwise_kernels\n",
    "from tslearn.metrics import dtw\n",
    "from fastdtw import fastdtw\n",
    "from sklearn.utils import resample\n",
    "from scipy.spatial.distance import cdist\n",
    "from scipy.spatial.distance import euclidean\n",
    "import time\n",
    "from sklearn.metrics import confusion_matrix\n",
    "import seaborn as sns\n",
    "import matplotlib.pyplot as plt"
   ]
  },
  {
   "cell_type": "code",
   "execution_count": 2,
   "id": "5fcf470b-eb4b-4a62-8cbc-bac21ad9ff90",
   "metadata": {},
   "outputs": [
    {
     "name": "stdout",
     "output_type": "stream",
     "text": [
      "(1000, 187)\n"
     ]
    }
   ],
   "source": [
    "df = pd.read_csv('mitbih_train.csv', header=None)\n",
    "\n",
    "# 数据平衡\n",
    "train_sample_num = 200\n",
    "\n",
    "df_1 = df[df[187] == 1]\n",
    "df_2 = df[df[187] == 2]\n",
    "df_3 = df[df[187] == 3]\n",
    "df_4 = df[df[187] == 4]\n",
    "df_0 = (df[df[187] == 0]).sample(n=train_sample_num, random_state=42)\n",
    "df_1_upsample = resample(df_1, replace=True, n_samples=train_sample_num, random_state=123)\n",
    "df_2_upsample = resample(df_2, replace=True, n_samples=train_sample_num, random_state=124)\n",
    "df_3_upsample = resample(df_3, replace=True, n_samples=train_sample_num, random_state=125)\n",
    "df_4_upsample = resample(df_4, replace=True, n_samples=train_sample_num, random_state=126)\n",
    "df = pd.concat([df_0, df_1_upsample, df_2_upsample, df_3_upsample, df_4_upsample])\n",
    "\n",
    "X_train = df.iloc[:, :-1].values.reshape(-1, 187)  # 将数据重塑为[batch_size, 1, 187]的形状\n",
    "y_train = df.iloc[:, -1].values.astype(int)\n",
    "\n",
    "print(X_train.shape)"
   ]
  },
  {
   "cell_type": "code",
   "execution_count": 3,
   "id": "e1d1d8f2-4a7c-4627-88d4-ee14678077a4",
   "metadata": {},
   "outputs": [],
   "source": [
    "# 加载测试集\n",
    "df = pd.read_csv('mitbih_test.csv', header=None)\n",
    "\n",
    "# 测试集数据平衡\n",
    "test_sample_num = 20\n",
    "\n",
    "df_1 = df[df[187] == 1]\n",
    "df_2 = df[df[187] == 2]\n",
    "df_3 = df[df[187] == 3]\n",
    "df_4 = df[df[187] == 4]\n",
    "df_0 = (df[df[187] == 0]).sample(n=test_sample_num, random_state=42)\n",
    "df_1_upsample = resample(df_1, replace=True, n_samples=test_sample_num, random_state=123)\n",
    "df_2_upsample = resample(df_2, replace=True, n_samples=test_sample_num, random_state=124)\n",
    "df_3_upsample = resample(df_3, replace=True, n_samples=test_sample_num, random_state=125)\n",
    "df_4_upsample = resample(df_4, replace=True, n_samples=test_sample_num, random_state=126)\n",
    "df = pd.concat([df_0, df_1_upsample, df_2_upsample, df_3_upsample, df_4_upsample])\n",
    "\n",
    "X_test = df.iloc[:, :-1].values.reshape(-1, 187)  # 将数据重塑为[batch_size, 1, 187]的形状\n",
    "\n",
    "y_test = df.iloc[:, -1].values.astype(int)\n"
   ]
  },
  {
   "cell_type": "code",
   "execution_count": 4,
   "id": "4a5c7005",
   "metadata": {},
   "outputs": [
    {
     "name": "stdout",
     "output_type": "stream",
     "text": [
      "Cal time: 405.2343678474426\n"
     ]
    }
   ],
   "source": [
    "def dtw_distance(x, y):\n",
    "    distance, path = fastdtw(x, y)\n",
    "    return distance\n",
    "\n",
    "start = time.time()\n",
    "dist_mat_train = cdist(X_train, X_train, metric=dtw_distance)\n",
    "dist_mat_test = cdist(X_test, X_train, metric=dtw_distance)\n",
    "end = time.time()\n",
    "print(\"Cal time:\", end-start)"
   ]
  },
  {
   "cell_type": "code",
   "execution_count": 5,
   "id": "fab72bc1-29dd-41db-9065-d897d91d344e",
   "metadata": {},
   "outputs": [],
   "source": [
    "sigma = 1.4\n",
    "K_train = np.exp(-dist_mat_train / sigma)\n",
    "K_test = np.exp(-dist_mat_test / sigma)"
   ]
  },
  {
   "cell_type": "code",
   "execution_count": 6,
   "id": "e5d6505d-6cc4-4f04-a5bf-73bc31c31321",
   "metadata": {},
   "outputs": [
    {
     "name": "stdout",
     "output_type": "stream",
     "text": [
      "Train: 1000 Test: 100 Cal time: 405.2343678474426\n",
      "Accuracy: 0.83\n"
     ]
    }
   ],
   "source": [
    "print(\"Train:\", 5*train_sample_num, \"Test:\", 5*test_sample_num, \"Cal time:\", end-start)\n",
    "\n",
    "# Train SVM with combined kernel matrix\n",
    "model = SVC(kernel='precomputed')\n",
    "\n",
    "model.fit(K_train, y_train)\n",
    "\n",
    "# Predict on new data\n",
    "y_pred = model.predict(K_test)\n",
    "\n",
    "print(\"Accuracy:\", np.mean(y_pred == y_test))"
   ]
  },
  {
   "cell_type": "code",
   "execution_count": 7,
   "id": "f98487e5-050b-4ac3-a046-ee2c92ff66d0",
   "metadata": {},
   "outputs": [
    {
     "data": {
      "text/plain": [
       "<AxesSubplot:>"
      ]
     },
     "execution_count": 7,
     "metadata": {},
     "output_type": "execute_result"
    },
    {
     "data": {
      "image/png": "[encoded data removed]",
      "text/plain": [
       "<Figure size 1000x600 with 2 Axes>"
      ]
     },
     "metadata": {},
     "output_type": "display_data"
    }
   ],
   "source": [
    "Y_prediction = model.predict(K_test)\n",
    "#image\n",
    "cm= confusion_matrix(y_test,Y_prediction)\n",
    "index = ['N','S','V','F','Q'] \n",
    "columns = ['N','S','V','F','Q']   \n",
    "cm_df = pd.DataFrame(cm,columns,index) \n",
    "plt.figure(figsize=(10,6))  \n",
    "sns.heatmap(cm_df, annot=True,fmt=\"d\",cmap=\"YlGnBu\")"
   ]
  },
  {
   "cell_type": "code",
   "execution_count": null,
   "id": "2412c215-0e1c-4cfa-8312-8ba5ecaef9f8",
   "metadata": {},
   "outputs": [],
   "source": []
  }
 ],
 "metadata": {
  "kernelspec": {
   "display_name": "Python 3 (ipykernel)",
   "language": "python",
   "name": "python3"
  },
  "language_info": {
   "codemirror_mode": {
    "name": "ipython",
    "version": 3
   },
   "file_extension": ".py",
   "mimetype": "text/x-python",
   "name": "python",
   "nbconvert_exporter": "python",
   "pygments_lexer": "ipython3",
   "version": "3.9.13"
  }
 },
 "nbformat": 4,
 "nbformat_minor": 5
}
