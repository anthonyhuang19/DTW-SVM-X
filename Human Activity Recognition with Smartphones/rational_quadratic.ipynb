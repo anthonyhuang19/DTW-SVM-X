{
 "cells": [
  {
   "cell_type": "markdown",
   "id": "17662b33-62b8-457b-8b3e-7f50127ab563",
   "metadata": {},
   "source": [
    "Human Activity Recognition with Smartphones"
   ]
  },
  {
   "cell_type": "code",
   "execution_count": 15,
   "id": "cfb8b101-a05e-4dc2-b134-b60b50b8fded",
   "metadata": {},
   "outputs": [],
   "source": [
    "import numpy as np\n",
    "import pylab as pl\n",
    "import pandas as pd\n",
    "import matplotlib.pyplot as plt \n",
    "import seaborn as sns\n",
    "from sklearn.utils import shuffle\n",
    "from sklearn.svm import SVC\n",
    "from sklearn.metrics import confusion_matrix,classification_report\n",
    "from sklearn.model_selection import cross_val_score, GridSearchCV\n",
    "from sklearn.utils import resample\n",
    "import time\n",
    "from scipy.spatial.distance import cdist\n",
    "from fastdtw import fastdtw"
   ]
  },
  {
   "cell_type": "markdown",
   "id": "66722de3-e926-4004-8f67-80b57bba23ab",
   "metadata": {},
   "source": [
    "Input train and testing dataset"
   ]
  },
  {
   "cell_type": "code",
   "execution_count": 16,
   "id": "35352888-ab4b-4c9c-8a0c-d47adad2e51c",
   "metadata": {},
   "outputs": [],
   "source": [
    "train = shuffle(pd.read_csv(\"train.csv\"))\n",
    "test = shuffle(pd.read_csv(\"test.csv\"))"
   ]
  },
  {
   "cell_type": "code",
   "execution_count": 17,
   "id": "dd45bb00-9e80-4e1b-b591-1fc0a22783b7",
   "metadata": {},
   "outputs": [
    {
     "data": {
      "text/html": [
       "<div>\n",
       "<style scoped>\n",
       "    .dataframe tbody tr th:only-of-type {\n",
       "        vertical-align: middle;\n",
       "    }\n",
       "\n",
       "    .dataframe tbody tr th {\n",
       "        vertical-align: top;\n",
       "    }\n",
       "\n",
       "    .dataframe thead th {\n",
       "        text-align: right;\n",
       "    }\n",
       "</style>\n",
       "<table border=\"1\" class=\"dataframe\">\n",
       "  <thead>\n",
       "    <tr style=\"text-align: right;\">\n",
       "      <th></th>\n",
       "      <th>tBodyAcc-mean()-X</th>\n",
       "      <th>tBodyAcc-mean()-Y</th>\n",
       "      <th>tBodyAcc-mean()-Z</th>\n",
       "      <th>tBodyAcc-std()-X</th>\n",
       "      <th>tBodyAcc-std()-Y</th>\n",
       "      <th>tBodyAcc-std()-Z</th>\n",
       "      <th>tBodyAcc-mad()-X</th>\n",
       "      <th>tBodyAcc-mad()-Y</th>\n",
       "      <th>tBodyAcc-mad()-Z</th>\n",
       "      <th>tBodyAcc-max()-X</th>\n",
       "      <th>...</th>\n",
       "      <th>fBodyBodyGyroJerkMag-kurtosis()</th>\n",
       "      <th>angle(tBodyAccMean,gravity)</th>\n",
       "      <th>angle(tBodyAccJerkMean),gravityMean)</th>\n",
       "      <th>angle(tBodyGyroMean,gravityMean)</th>\n",
       "      <th>angle(tBodyGyroJerkMean,gravityMean)</th>\n",
       "      <th>angle(X,gravityMean)</th>\n",
       "      <th>angle(Y,gravityMean)</th>\n",
       "      <th>angle(Z,gravityMean)</th>\n",
       "      <th>subject</th>\n",
       "      <th>Activity</th>\n",
       "    </tr>\n",
       "  </thead>\n",
       "  <tbody>\n",
       "    <tr>\n",
       "      <th>5032</th>\n",
       "      <td>0.225478</td>\n",
       "      <td>0.009406</td>\n",
       "      <td>-0.148374</td>\n",
       "      <td>0.034914</td>\n",
       "      <td>0.279633</td>\n",
       "      <td>0.239021</td>\n",
       "      <td>-0.085120</td>\n",
       "      <td>0.216145</td>\n",
       "      <td>0.157144</td>\n",
       "      <td>0.402256</td>\n",
       "      <td>...</td>\n",
       "      <td>-0.752572</td>\n",
       "      <td>0.272944</td>\n",
       "      <td>0.386420</td>\n",
       "      <td>0.813363</td>\n",
       "      <td>0.259028</td>\n",
       "      <td>-0.767034</td>\n",
       "      <td>0.159095</td>\n",
       "      <td>0.173586</td>\n",
       "      <td>23</td>\n",
       "      <td>WALKING_DOWNSTAIRS</td>\n",
       "    </tr>\n",
       "    <tr>\n",
       "      <th>1691</th>\n",
       "      <td>0.277236</td>\n",
       "      <td>-0.016212</td>\n",
       "      <td>-0.108051</td>\n",
       "      <td>-0.996143</td>\n",
       "      <td>-0.991655</td>\n",
       "      <td>-0.993166</td>\n",
       "      <td>-0.996984</td>\n",
       "      <td>-0.991882</td>\n",
       "      <td>-0.992522</td>\n",
       "      <td>-0.941092</td>\n",
       "      <td>...</td>\n",
       "      <td>-0.728178</td>\n",
       "      <td>-0.797135</td>\n",
       "      <td>0.276125</td>\n",
       "      <td>0.118067</td>\n",
       "      <td>0.245912</td>\n",
       "      <td>0.489625</td>\n",
       "      <td>-0.729784</td>\n",
       "      <td>-0.257607</td>\n",
       "      <td>8</td>\n",
       "      <td>LAYING</td>\n",
       "    </tr>\n",
       "    <tr>\n",
       "      <th>3182</th>\n",
       "      <td>0.335972</td>\n",
       "      <td>-0.011391</td>\n",
       "      <td>-0.113157</td>\n",
       "      <td>-0.363850</td>\n",
       "      <td>-0.322581</td>\n",
       "      <td>-0.036114</td>\n",
       "      <td>-0.371714</td>\n",
       "      <td>-0.370334</td>\n",
       "      <td>-0.014919</td>\n",
       "      <td>-0.363178</td>\n",
       "      <td>...</td>\n",
       "      <td>-0.737354</td>\n",
       "      <td>-0.912683</td>\n",
       "      <td>-0.113972</td>\n",
       "      <td>0.302299</td>\n",
       "      <td>0.876661</td>\n",
       "      <td>-0.813177</td>\n",
       "      <td>0.021467</td>\n",
       "      <td>0.129173</td>\n",
       "      <td>16</td>\n",
       "      <td>WALKING</td>\n",
       "    </tr>\n",
       "    <tr>\n",
       "      <th>1788</th>\n",
       "      <td>0.277877</td>\n",
       "      <td>-0.017285</td>\n",
       "      <td>-0.109736</td>\n",
       "      <td>-0.998499</td>\n",
       "      <td>-0.988680</td>\n",
       "      <td>-0.991600</td>\n",
       "      <td>-0.998773</td>\n",
       "      <td>-0.992057</td>\n",
       "      <td>-0.992335</td>\n",
       "      <td>-0.945097</td>\n",
       "      <td>...</td>\n",
       "      <td>-0.891237</td>\n",
       "      <td>-0.247405</td>\n",
       "      <td>-0.220886</td>\n",
       "      <td>0.357750</td>\n",
       "      <td>0.317959</td>\n",
       "      <td>-0.726654</td>\n",
       "      <td>0.163127</td>\n",
       "      <td>0.202932</td>\n",
       "      <td>8</td>\n",
       "      <td>STANDING</td>\n",
       "    </tr>\n",
       "    <tr>\n",
       "      <th>2017</th>\n",
       "      <td>0.428147</td>\n",
       "      <td>0.000117</td>\n",
       "      <td>-0.098356</td>\n",
       "      <td>0.231127</td>\n",
       "      <td>0.134520</td>\n",
       "      <td>-0.236425</td>\n",
       "      <td>0.214969</td>\n",
       "      <td>0.106789</td>\n",
       "      <td>-0.223306</td>\n",
       "      <td>0.455011</td>\n",
       "      <td>...</td>\n",
       "      <td>-0.977112</td>\n",
       "      <td>-0.692631</td>\n",
       "      <td>0.354357</td>\n",
       "      <td>0.987312</td>\n",
       "      <td>-0.527845</td>\n",
       "      <td>-0.751946</td>\n",
       "      <td>0.234384</td>\n",
       "      <td>-0.089531</td>\n",
       "      <td>11</td>\n",
       "      <td>WALKING_DOWNSTAIRS</td>\n",
       "    </tr>\n",
       "  </tbody>\n",
       "</table>\n",
       "<p>5 rows × 563 columns</p>\n",
       "</div>"
      ],
      "text/plain": [
       "      tBodyAcc-mean()-X  tBodyAcc-mean()-Y  tBodyAcc-mean()-Z  \\\n",
       "5032           0.225478           0.009406          -0.148374   \n",
       "1691           0.277236          -0.016212          -0.108051   \n",
       "3182           0.335972          -0.011391          -0.113157   \n",
       "1788           0.277877          -0.017285          -0.109736   \n",
       "2017           0.428147           0.000117          -0.098356   \n",
       "\n",
       "      tBodyAcc-std()-X  tBodyAcc-std()-Y  tBodyAcc-std()-Z  tBodyAcc-mad()-X  \\\n",
       "5032          0.034914          0.279633          0.239021         -0.085120   \n",
       "1691         -0.996143         -0.991655         -0.993166         -0.996984   \n",
       "3182         -0.363850         -0.322581         -0.036114         -0.371714   \n",
       "1788         -0.998499         -0.988680         -0.991600         -0.998773   \n",
       "2017          0.231127          0.134520         -0.236425          0.214969   \n",
       "\n",
       "      tBodyAcc-mad()-Y  tBodyAcc-mad()-Z  tBodyAcc-max()-X  ...  \\\n",
       "5032          0.216145          0.157144          0.402256  ...   \n",
       "1691         -0.991882         -0.992522         -0.941092  ...   \n",
       "3182         -0.370334         -0.014919         -0.363178  ...   \n",
       "1788         -0.992057         -0.992335         -0.945097  ...   \n",
       "2017          0.106789         -0.223306          0.455011  ...   \n",
       "\n",
       "      fBodyBodyGyroJerkMag-kurtosis()  angle(tBodyAccMean,gravity)  \\\n",
       "5032                        -0.752572                     0.272944   \n",
       "1691                        -0.728178                    -0.797135   \n",
       "3182                        -0.737354                    -0.912683   \n",
       "1788                        -0.891237                    -0.247405   \n",
       "2017                        -0.977112                    -0.692631   \n",
       "\n",
       "      angle(tBodyAccJerkMean),gravityMean)  angle(tBodyGyroMean,gravityMean)  \\\n",
       "5032                              0.386420                          0.813363   \n",
       "1691                              0.276125                          0.118067   \n",
       "3182                             -0.113972                          0.302299   \n",
       "1788                             -0.220886                          0.357750   \n",
       "2017                              0.354357                          0.987312   \n",
       "\n",
       "      angle(tBodyGyroJerkMean,gravityMean)  angle(X,gravityMean)  \\\n",
       "5032                              0.259028             -0.767034   \n",
       "1691                              0.245912              0.489625   \n",
       "3182                              0.876661             -0.813177   \n",
       "1788                              0.317959             -0.726654   \n",
       "2017                             -0.527845             -0.751946   \n",
       "\n",
       "      angle(Y,gravityMean)  angle(Z,gravityMean)  subject            Activity  \n",
       "5032              0.159095              0.173586       23  WALKING_DOWNSTAIRS  \n",
       "1691             -0.729784             -0.257607        8              LAYING  \n",
       "3182              0.021467              0.129173       16             WALKING  \n",
       "1788              0.163127              0.202932        8            STANDING  \n",
       "2017              0.234384             -0.089531       11  WALKING_DOWNSTAIRS  \n",
       "\n",
       "[5 rows x 563 columns]"
      ]
     },
     "execution_count": 17,
     "metadata": {},
     "output_type": "execute_result"
    }
   ],
   "source": [
    "train.head()"
   ]
  },
  {
   "cell_type": "markdown",
   "id": "f4313751-7271-4e3a-9938-6756b02a7af3",
   "metadata": {},
   "source": [
    "Check for missing values in the dataset"
   ]
  },
  {
   "cell_type": "code",
   "execution_count": 18,
   "id": "5399c54a-7f95-4385-b32e-363a12116b3d",
   "metadata": {},
   "outputs": [
    {
     "name": "stdout",
     "output_type": "stream",
     "text": [
      "Any missing sample in training set: False\n",
      "Any missing sample in test set: False \n",
      "\n"
     ]
    }
   ],
   "source": [
    "print(\"Any missing sample in training set:\",train.isnull().values.any())\n",
    "print(\"Any missing sample in test set:\",test.isnull().values.any(), \"\\n\")"
   ]
  },
  {
   "cell_type": "markdown",
   "id": "034a7f34-3c55-4f3f-82d6-d12d9714db7a",
   "metadata": {},
   "source": [
    "Frequency Distribution of the Outome"
   ]
  },
  {
   "cell_type": "code",
   "execution_count": 19,
   "id": "01ea03e4-65f7-4ecc-9ae1-5aa04d459299",
   "metadata": {},
   "outputs": [
    {
     "data": {
      "text/html": [
       "<div>\n",
       "<style scoped>\n",
       "    .dataframe tbody tr th:only-of-type {\n",
       "        vertical-align: middle;\n",
       "    }\n",
       "\n",
       "    .dataframe tbody tr th {\n",
       "        vertical-align: top;\n",
       "    }\n",
       "\n",
       "    .dataframe thead th {\n",
       "        text-align: right;\n",
       "    }\n",
       "</style>\n",
       "<table border=\"1\" class=\"dataframe\">\n",
       "  <thead>\n",
       "    <tr style=\"text-align: right;\">\n",
       "      <th>col_0</th>\n",
       "      <th>count</th>\n",
       "    </tr>\n",
       "    <tr>\n",
       "      <th>Activity</th>\n",
       "      <th></th>\n",
       "    </tr>\n",
       "  </thead>\n",
       "  <tbody>\n",
       "    <tr>\n",
       "      <th>LAYING</th>\n",
       "      <td>1407</td>\n",
       "    </tr>\n",
       "    <tr>\n",
       "      <th>SITTING</th>\n",
       "      <td>1286</td>\n",
       "    </tr>\n",
       "    <tr>\n",
       "      <th>STANDING</th>\n",
       "      <td>1374</td>\n",
       "    </tr>\n",
       "    <tr>\n",
       "      <th>WALKING</th>\n",
       "      <td>1226</td>\n",
       "    </tr>\n",
       "    <tr>\n",
       "      <th>WALKING_DOWNSTAIRS</th>\n",
       "      <td>986</td>\n",
       "    </tr>\n",
       "    <tr>\n",
       "      <th>WALKING_UPSTAIRS</th>\n",
       "      <td>1073</td>\n",
       "    </tr>\n",
       "  </tbody>\n",
       "</table>\n",
       "</div>"
      ],
      "text/plain": [
       "col_0               count\n",
       "Activity                 \n",
       "LAYING               1407\n",
       "SITTING              1286\n",
       "STANDING             1374\n",
       "WALKING              1226\n",
       "WALKING_DOWNSTAIRS    986\n",
       "WALKING_UPSTAIRS     1073"
      ]
     },
     "execution_count": 19,
     "metadata": {},
     "output_type": "execute_result"
    }
   ],
   "source": [
    "#Frequency distribution of classes\"\n",
    "train_outcome = pd.crosstab(index=train[\"Activity\"],  # Make a crosstab\n",
    "                              columns=\"count\")      # Name the count column\n",
    "\n",
    "train_outcome"
   ]
  },
  {
   "cell_type": "code",
   "execution_count": 20,
   "id": "38e84af3-8574-440a-964e-5b17deb36f1a",
   "metadata": {},
   "outputs": [
    {
     "data": {
      "image/png": "[encoded data removed]",
      "text/plain": [
       "<Figure size 640x480 with 1 Axes>"
      ]
     },
     "metadata": {},
     "output_type": "display_data"
    }
   ],
   "source": [
    "# Visualizing Outcome Distribution \n",
    "temp = train[\"Activity\"].value_counts()\n",
    "df = pd.DataFrame({'labels': temp.index,\n",
    "                   'values': temp.values\n",
    "                  })\n",
    "\n",
    "#df.plot(kind='pie',labels='labels',values='values', title='Activity Ditribution',subplots= \"True\")\n",
    "\n",
    "labels = df['labels']\n",
    "sizes = df['values']\n",
    "colors = ['yellowgreen', 'gold', 'lightskyblue', 'lightcoral','cyan','lightpink']\n",
    "patches, texts = plt.pie(sizes, colors=colors, shadow=True, startangle=90, pctdistance=1.1, labeldistance=1.2)\n",
    "plt.legend(patches, labels, loc=\"best\")\n",
    "plt.axis('equal')\n",
    "plt.tight_layout()\n",
    "plt.show()\n"
   ]
  },
  {
   "cell_type": "markdown",
   "id": "e446d4b6-7105-474c-bd5a-15c8aa398a75",
   "metadata": {},
   "source": [
    "Balance train & test dataset"
   ]
  },
  {
   "cell_type": "code",
   "execution_count": 21,
   "id": "57735142-b2df-403c-a205-39740980ac5a",
   "metadata": {},
   "outputs": [],
   "source": [
    "# 数据平衡\n",
    "train_sample_num = 166\n",
    "\n",
    "df_1 = train[train[\"Activity\"] == \"LAYING\"]\n",
    "df_2 = train[train[\"Activity\"] == \"SITTING\"]\n",
    "df_3 = train[train[\"Activity\"] == \"STANDING\"]\n",
    "df_4 = train[train[\"Activity\"] == \"WALKING\"]\n",
    "df_5 = train[train[\"Activity\"] == \"WALKING_DOWNSTAIRS\"]\n",
    "df_6 = train[train[\"Activity\"] == \"WALKING_UPSTAIRS\"]\n",
    "\n",
    "df_1_upsample = resample(df_1, replace=True, n_samples=train_sample_num, random_state=123)\n",
    "df_2_upsample = resample(df_2, replace=True, n_samples=train_sample_num, random_state=124)\n",
    "df_3_upsample = resample(df_3, replace=True, n_samples=train_sample_num, random_state=125)\n",
    "df_4_upsample = resample(df_4, replace=True, n_samples=train_sample_num, random_state=126)\n",
    "df_5_upsample = resample(df_5, replace=True, n_samples=train_sample_num, random_state=127)\n",
    "df_6_upsample = resample(df_6, replace=True, n_samples=train_sample_num, random_state=128)\n",
    "\n",
    "\n",
    "\n",
    "df = pd.concat([df_1_upsample, df_2_upsample, df_3_upsample, df_4_upsample,df_5_upsample,df_6_upsample])\n",
    "X_train = pd.DataFrame(df.drop(['Activity','subject'],axis=1))\n",
    "Y_train = df.Activity.values.astype(object)\n"
   ]
  },
  {
   "cell_type": "code",
   "execution_count": 22,
   "id": "621f8209-de90-48ef-839e-a77e079b3fbc",
   "metadata": {},
   "outputs": [],
   "source": [
    "# 数据平衡\n",
    "test_sample_num = 16\n",
    "\n",
    "df_1_test = test[test[\"Activity\"] == \"LAYING\"]\n",
    "df_2_test = test[test[\"Activity\"] == \"SITTING\"]\n",
    "df_3_test = test[test[\"Activity\"] == \"STANDING\"]\n",
    "df_4_test = test[test[\"Activity\"] == \"WALKING\"]\n",
    "df_5_test = test[test[\"Activity\"] == \"WALKING_DOWNSTAIRS\"]\n",
    "df_6_test = test[test[\"Activity\"] == \"WALKING_UPSTAIRS\"]\n",
    "\n",
    "df_1_upsample_test = resample(df_1_test, replace=True, n_samples=train_sample_num, random_state=123)\n",
    "df_2_upsample_test = resample(df_2_test, replace=True, n_samples=train_sample_num, random_state=124)\n",
    "df_3_upsample_test = resample(df_3_test, replace=True, n_samples=train_sample_num, random_state=125)\n",
    "df_4_upsample_test = resample(df_4_test, replace=True, n_samples=train_sample_num, random_state=126)\n",
    "df_5_upsample_test = resample(df_5_test, replace=True, n_samples=train_sample_num, random_state=127)\n",
    "df_6_upsample_test = resample(df_6_test, replace=True, n_samples=train_sample_num, random_state=128)\n",
    "\n",
    "\n",
    "\n",
    "df_test = pd.concat([df_1_upsample_test, df_2_upsample_test, df_3_upsample_test, df_4_upsample_test,df_5_upsample_test,df_6_upsample_test])\n",
    "X_test = pd.DataFrame(df_test.drop(['Activity','subject'],axis=1))\n",
    "Y_test = df.Activity.values.astype(object)\n"
   ]
  },
  {
   "cell_type": "code",
   "execution_count": 23,
   "id": "c88ae28f-4092-4e2b-9b5c-9b284dc96436",
   "metadata": {},
   "outputs": [],
   "source": [
    "def dtw_distance(x, y):\n",
    "    distance, path = fastdtw(x, y)\n",
    "    return distance\n",
    "\n",
    "# Define a function to compute the rational_quadratic kernel using DTW distance\n",
    "def dtw_rational_quadratic_kernel(X, Y, c):\n",
    "    dist_mat = cdist(X, Y, metric=dtw_distance)\n",
    "    kernel_math = 1-((dist_mat**2)/(dist_mat**2+c))\n",
    "    return kernel_math\n"
   ]
  },
  {
   "cell_type": "code",
   "execution_count": 24,
   "id": "2bd48c4c-7238-41f7-9d16-f4bb68bc0a65",
   "metadata": {},
   "outputs": [],
   "source": [
    "# Compute the rational_quadratic kernel with DTW distance for the training and testing sets\n",
    "c = 9000\n",
    "\n",
    "start = time.time()\n",
    "K_train = dtw_rational_quadratic_kernel(X_train, X_train,c)\n",
    "K_test =  dtw_rational_quadratic_kernel(X_test, X_train, c)\n",
    "end = time.time()\n"
   ]
  },
  {
   "cell_type": "code",
   "execution_count": 25,
   "id": "cf49148b-6ac0-426f-81e1-f80558497318",
   "metadata": {},
   "outputs": [
    {
     "name": "stdout",
     "output_type": "stream",
     "text": [
      "Train: 996 Test: 96 Cal time: 1390.3025012016296\n",
      "Accuracy: 0.8704819277108434\n"
     ]
    }
   ],
   "source": [
    "print(\"Train:\", 6*train_sample_num, \"Test:\", 6*test_sample_num, \"Cal time:\", end-start)\n",
    "\n",
    "# Train SVM with combined kernel matrix\n",
    "model = SVC(kernel='precomputed')\n",
    "\n",
    "model.fit(K_train, Y_train)\n",
    "\n",
    "# Predict on new data\n",
    "y_pred = model.predict(K_test)\n",
    "\n",
    "print(\"Accuracy:\", np.mean(y_pred == Y_test)) # 0.81->1  0.78 -> 0.8 0.4 ->0.61"
   ]
  },
  {
   "cell_type": "code",
   "execution_count": 26,
   "id": "e174f651-fba0-4e22-b7f5-8a90cf792c72",
   "metadata": {},
   "outputs": [
    {
     "name": "stdout",
     "output_type": "stream",
     "text": [
      "<bound method ClassifierMixin.score of SVC(kernel='precomputed')>\n"
     ]
    }
   ],
   "source": [
    "print(model.score)"
   ]
  },
  {
   "cell_type": "code",
   "execution_count": 27,
   "id": "56378d00-8d71-4c44-9d8b-5031ba257b14",
   "metadata": {},
   "outputs": [
    {
     "data": {
      "text/plain": [
       "<AxesSubplot:>"
      ]
     },
     "execution_count": 27,
     "metadata": {},
     "output_type": "execute_result"
    },
    {
     "data": {
      "image/png": "[encoded data removed]",
      "text/plain": [
       "<Figure size 1000x600 with 2 Axes>"
      ]
     },
     "metadata": {},
     "output_type": "display_data"
    }
   ],
   "source": [
    "Y_prediction = model.predict(K_test)\n",
    "#image\n",
    "cm= confusion_matrix(Y_test,Y_prediction)\n",
    "index = ['LAYING','SITTING','STANDING','WALKING','WALKING_DOWNSTAIRS','WALKING_UPSTAIRS'] \n",
    "columns = ['LAYING','SITTING','STANDING','WALKING','WALKING_DOWNSTAIRS','WALKING_UPSTAIRS'] \n",
    "cm_df = pd.DataFrame(cm,columns,index) \n",
    "plt.figure(figsize=(10,6))  \n",
    "sns.heatmap(cm_df, annot=True,fmt=\"d\",cmap=\"YlGnBu\")"
   ]
  },
  {
   "cell_type": "code",
   "execution_count": null,
   "id": "af54b49f-8373-45c2-a65c-3ca4fa0848cc",
   "metadata": {},
   "outputs": [],
   "source": []
  }
 ],
 "metadata": {
  "kernelspec": {
   "display_name": "Python 3 (ipykernel)",
   "language": "python",
   "name": "python3"
  },
  "language_info": {
   "codemirror_mode": {
    "name": "ipython",
    "version": 3
   },
   "file_extension": ".py",
   "mimetype": "text/x-python",
   "name": "python",
   "nbconvert_exporter": "python",
   "pygments_lexer": "ipython3",
   "version": "3.9.13"
  }
 },
 "nbformat": 4,
 "nbformat_minor": 5
}
