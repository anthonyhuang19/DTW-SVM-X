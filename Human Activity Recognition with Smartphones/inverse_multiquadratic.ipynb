{
 "cells": [
  {
   "cell_type": "markdown",
   "id": "17662b33-62b8-457b-8b3e-7f50127ab563",
   "metadata": {},
   "source": [
    "Human Activity Recognition with Smartphones"
   ]
  },
  {
   "cell_type": "code",
   "execution_count": 1,
   "id": "cfb8b101-a05e-4dc2-b134-b60b50b8fded",
   "metadata": {},
   "outputs": [],
   "source": [
    "import numpy as np\n",
    "import pylab as pl\n",
    "import pandas as pd\n",
    "import matplotlib.pyplot as plt \n",
    "import seaborn as sns\n",
    "from sklearn.utils import shuffle\n",
    "from sklearn.svm import SVC\n",
    "from sklearn.metrics import confusion_matrix,classification_report\n",
    "from sklearn.model_selection import cross_val_score, GridSearchCV\n",
    "from sklearn.utils import resample\n",
    "import time\n",
    "from scipy.spatial.distance import cdist\n",
    "from fastdtw import fastdtw"
   ]
  },
  {
   "cell_type": "markdown",
   "id": "66722de3-e926-4004-8f67-80b57bba23ab",
   "metadata": {},
   "source": [
    "Input train and testing dataset"
   ]
  },
  {
   "cell_type": "code",
   "execution_count": 2,
   "id": "35352888-ab4b-4c9c-8a0c-d47adad2e51c",
   "metadata": {},
   "outputs": [],
   "source": [
    "train = shuffle(pd.read_csv(\"train.csv\"))\n",
    "test = shuffle(pd.read_csv(\"test.csv\"))"
   ]
  },
  {
   "cell_type": "code",
   "execution_count": 3,
   "id": "dd45bb00-9e80-4e1b-b591-1fc0a22783b7",
   "metadata": {},
   "outputs": [
    {
     "data": {
      "text/html": [
       "<div>\n",
       "<style scoped>\n",
       "    .dataframe tbody tr th:only-of-type {\n",
       "        vertical-align: middle;\n",
       "    }\n",
       "\n",
       "    .dataframe tbody tr th {\n",
       "        vertical-align: top;\n",
       "    }\n",
       "\n",
       "    .dataframe thead th {\n",
       "        text-align: right;\n",
       "    }\n",
       "</style>\n",
       "<table border=\"1\" class=\"dataframe\">\n",
       "  <thead>\n",
       "    <tr style=\"text-align: right;\">\n",
       "      <th></th>\n",
       "      <th>tBodyAcc-mean()-X</th>\n",
       "      <th>tBodyAcc-mean()-Y</th>\n",
       "      <th>tBodyAcc-mean()-Z</th>\n",
       "      <th>tBodyAcc-std()-X</th>\n",
       "      <th>tBodyAcc-std()-Y</th>\n",
       "      <th>tBodyAcc-std()-Z</th>\n",
       "      <th>tBodyAcc-mad()-X</th>\n",
       "      <th>tBodyAcc-mad()-Y</th>\n",
       "      <th>tBodyAcc-mad()-Z</th>\n",
       "      <th>tBodyAcc-max()-X</th>\n",
       "      <th>...</th>\n",
       "      <th>fBodyBodyGyroJerkMag-kurtosis()</th>\n",
       "      <th>angle(tBodyAccMean,gravity)</th>\n",
       "      <th>angle(tBodyAccJerkMean),gravityMean)</th>\n",
       "      <th>angle(tBodyGyroMean,gravityMean)</th>\n",
       "      <th>angle(tBodyGyroJerkMean,gravityMean)</th>\n",
       "      <th>angle(X,gravityMean)</th>\n",
       "      <th>angle(Y,gravityMean)</th>\n",
       "      <th>angle(Z,gravityMean)</th>\n",
       "      <th>subject</th>\n",
       "      <th>Activity</th>\n",
       "    </tr>\n",
       "  </thead>\n",
       "  <tbody>\n",
       "    <tr>\n",
       "      <th>5751</th>\n",
       "      <td>0.277351</td>\n",
       "      <td>-0.017135</td>\n",
       "      <td>-0.106814</td>\n",
       "      <td>-0.995988</td>\n",
       "      <td>-0.994745</td>\n",
       "      <td>-0.996607</td>\n",
       "      <td>-0.996367</td>\n",
       "      <td>-0.994237</td>\n",
       "      <td>-0.996889</td>\n",
       "      <td>-0.939992</td>\n",
       "      <td>...</td>\n",
       "      <td>-0.556075</td>\n",
       "      <td>-0.404091</td>\n",
       "      <td>-0.247955</td>\n",
       "      <td>-0.678512</td>\n",
       "      <td>-0.576824</td>\n",
       "      <td>0.656711</td>\n",
       "      <td>-0.558804</td>\n",
       "      <td>-0.442983</td>\n",
       "      <td>26</td>\n",
       "      <td>LAYING</td>\n",
       "    </tr>\n",
       "    <tr>\n",
       "      <th>1120</th>\n",
       "      <td>0.084683</td>\n",
       "      <td>0.063916</td>\n",
       "      <td>-0.066697</td>\n",
       "      <td>0.387375</td>\n",
       "      <td>-0.008854</td>\n",
       "      <td>-0.539185</td>\n",
       "      <td>0.303451</td>\n",
       "      <td>-0.106082</td>\n",
       "      <td>-0.520739</td>\n",
       "      <td>0.660661</td>\n",
       "      <td>...</td>\n",
       "      <td>-0.419385</td>\n",
       "      <td>0.605662</td>\n",
       "      <td>0.623681</td>\n",
       "      <td>-0.936030</td>\n",
       "      <td>-0.424068</td>\n",
       "      <td>-0.781147</td>\n",
       "      <td>0.249341</td>\n",
       "      <td>0.022066</td>\n",
       "      <td>6</td>\n",
       "      <td>WALKING_DOWNSTAIRS</td>\n",
       "    </tr>\n",
       "    <tr>\n",
       "      <th>4803</th>\n",
       "      <td>0.227920</td>\n",
       "      <td>-0.033946</td>\n",
       "      <td>-0.094711</td>\n",
       "      <td>-0.367742</td>\n",
       "      <td>-0.060711</td>\n",
       "      <td>0.190148</td>\n",
       "      <td>-0.403146</td>\n",
       "      <td>-0.217358</td>\n",
       "      <td>0.189628</td>\n",
       "      <td>-0.122904</td>\n",
       "      <td>...</td>\n",
       "      <td>-0.383312</td>\n",
       "      <td>0.464825</td>\n",
       "      <td>-0.503228</td>\n",
       "      <td>-0.684917</td>\n",
       "      <td>-0.591868</td>\n",
       "      <td>-0.738905</td>\n",
       "      <td>0.211950</td>\n",
       "      <td>0.162907</td>\n",
       "      <td>23</td>\n",
       "      <td>WALKING</td>\n",
       "    </tr>\n",
       "    <tr>\n",
       "      <th>4524</th>\n",
       "      <td>0.138417</td>\n",
       "      <td>-0.024460</td>\n",
       "      <td>-0.150348</td>\n",
       "      <td>0.370627</td>\n",
       "      <td>0.225344</td>\n",
       "      <td>-0.293605</td>\n",
       "      <td>0.366288</td>\n",
       "      <td>0.192435</td>\n",
       "      <td>-0.298804</td>\n",
       "      <td>0.465563</td>\n",
       "      <td>...</td>\n",
       "      <td>-0.720364</td>\n",
       "      <td>0.742786</td>\n",
       "      <td>-0.459860</td>\n",
       "      <td>0.967798</td>\n",
       "      <td>-0.762551</td>\n",
       "      <td>-0.777683</td>\n",
       "      <td>0.215793</td>\n",
       "      <td>-0.084583</td>\n",
       "      <td>22</td>\n",
       "      <td>WALKING_DOWNSTAIRS</td>\n",
       "    </tr>\n",
       "    <tr>\n",
       "      <th>5229</th>\n",
       "      <td>0.297819</td>\n",
       "      <td>-0.044428</td>\n",
       "      <td>-0.121008</td>\n",
       "      <td>-0.386935</td>\n",
       "      <td>-0.209733</td>\n",
       "      <td>-0.443651</td>\n",
       "      <td>-0.409051</td>\n",
       "      <td>-0.234213</td>\n",
       "      <td>-0.457049</td>\n",
       "      <td>-0.189089</td>\n",
       "      <td>...</td>\n",
       "      <td>-0.823830</td>\n",
       "      <td>-0.144710</td>\n",
       "      <td>0.649667</td>\n",
       "      <td>0.897821</td>\n",
       "      <td>-0.714276</td>\n",
       "      <td>-0.666985</td>\n",
       "      <td>0.145179</td>\n",
       "      <td>-0.217427</td>\n",
       "      <td>25</td>\n",
       "      <td>WALKING_DOWNSTAIRS</td>\n",
       "    </tr>\n",
       "  </tbody>\n",
       "</table>\n",
       "<p>5 rows × 563 columns</p>\n",
       "</div>"
      ],
      "text/plain": [
       "      tBodyAcc-mean()-X  tBodyAcc-mean()-Y  tBodyAcc-mean()-Z  \\\n",
       "5751           0.277351          -0.017135          -0.106814   \n",
       "1120           0.084683           0.063916          -0.066697   \n",
       "4803           0.227920          -0.033946          -0.094711   \n",
       "4524           0.138417          -0.024460          -0.150348   \n",
       "5229           0.297819          -0.044428          -0.121008   \n",
       "\n",
       "      tBodyAcc-std()-X  tBodyAcc-std()-Y  tBodyAcc-std()-Z  tBodyAcc-mad()-X  \\\n",
       "5751         -0.995988         -0.994745         -0.996607         -0.996367   \n",
       "1120          0.387375         -0.008854         -0.539185          0.303451   \n",
       "4803         -0.367742         -0.060711          0.190148         -0.403146   \n",
       "4524          0.370627          0.225344         -0.293605          0.366288   \n",
       "5229         -0.386935         -0.209733         -0.443651         -0.409051   \n",
       "\n",
       "      tBodyAcc-mad()-Y  tBodyAcc-mad()-Z  tBodyAcc-max()-X  ...  \\\n",
       "5751         -0.994237         -0.996889         -0.939992  ...   \n",
       "1120         -0.106082         -0.520739          0.660661  ...   \n",
       "4803         -0.217358          0.189628         -0.122904  ...   \n",
       "4524          0.192435         -0.298804          0.465563  ...   \n",
       "5229         -0.234213         -0.457049         -0.189089  ...   \n",
       "\n",
       "      fBodyBodyGyroJerkMag-kurtosis()  angle(tBodyAccMean,gravity)  \\\n",
       "5751                        -0.556075                    -0.404091   \n",
       "1120                        -0.419385                     0.605662   \n",
       "4803                        -0.383312                     0.464825   \n",
       "4524                        -0.720364                     0.742786   \n",
       "5229                        -0.823830                    -0.144710   \n",
       "\n",
       "      angle(tBodyAccJerkMean),gravityMean)  angle(tBodyGyroMean,gravityMean)  \\\n",
       "5751                             -0.247955                         -0.678512   \n",
       "1120                              0.623681                         -0.936030   \n",
       "4803                             -0.503228                         -0.684917   \n",
       "4524                             -0.459860                          0.967798   \n",
       "5229                              0.649667                          0.897821   \n",
       "\n",
       "      angle(tBodyGyroJerkMean,gravityMean)  angle(X,gravityMean)  \\\n",
       "5751                             -0.576824              0.656711   \n",
       "1120                             -0.424068             -0.781147   \n",
       "4803                             -0.591868             -0.738905   \n",
       "4524                             -0.762551             -0.777683   \n",
       "5229                             -0.714276             -0.666985   \n",
       "\n",
       "      angle(Y,gravityMean)  angle(Z,gravityMean)  subject            Activity  \n",
       "5751             -0.558804             -0.442983       26              LAYING  \n",
       "1120              0.249341              0.022066        6  WALKING_DOWNSTAIRS  \n",
       "4803              0.211950              0.162907       23             WALKING  \n",
       "4524              0.215793             -0.084583       22  WALKING_DOWNSTAIRS  \n",
       "5229              0.145179             -0.217427       25  WALKING_DOWNSTAIRS  \n",
       "\n",
       "[5 rows x 563 columns]"
      ]
     },
     "execution_count": 3,
     "metadata": {},
     "output_type": "execute_result"
    }
   ],
   "source": [
    "train.head()"
   ]
  },
  {
   "cell_type": "markdown",
   "id": "f4313751-7271-4e3a-9938-6756b02a7af3",
   "metadata": {},
   "source": [
    "Check for missing values in the dataset"
   ]
  },
  {
   "cell_type": "code",
   "execution_count": 4,
   "id": "5399c54a-7f95-4385-b32e-363a12116b3d",
   "metadata": {},
   "outputs": [
    {
     "name": "stdout",
     "output_type": "stream",
     "text": [
      "Any missing sample in training set: False\n",
      "Any missing sample in test set: False \n",
      "\n"
     ]
    }
   ],
   "source": [
    "print(\"Any missing sample in training set:\",train.isnull().values.any())\n",
    "print(\"Any missing sample in test set:\",test.isnull().values.any(), \"\\n\")"
   ]
  },
  {
   "cell_type": "markdown",
   "id": "034a7f34-3c55-4f3f-82d6-d12d9714db7a",
   "metadata": {},
   "source": [
    "Frequency Distribution of the Outome"
   ]
  },
  {
   "cell_type": "code",
   "execution_count": 5,
   "id": "01ea03e4-65f7-4ecc-9ae1-5aa04d459299",
   "metadata": {},
   "outputs": [
    {
     "data": {
      "text/html": [
       "<div>\n",
       "<style scoped>\n",
       "    .dataframe tbody tr th:only-of-type {\n",
       "        vertical-align: middle;\n",
       "    }\n",
       "\n",
       "    .dataframe tbody tr th {\n",
       "        vertical-align: top;\n",
       "    }\n",
       "\n",
       "    .dataframe thead th {\n",
       "        text-align: right;\n",
       "    }\n",
       "</style>\n",
       "<table border=\"1\" class=\"dataframe\">\n",
       "  <thead>\n",
       "    <tr style=\"text-align: right;\">\n",
       "      <th>col_0</th>\n",
       "      <th>count</th>\n",
       "    </tr>\n",
       "    <tr>\n",
       "      <th>Activity</th>\n",
       "      <th></th>\n",
       "    </tr>\n",
       "  </thead>\n",
       "  <tbody>\n",
       "    <tr>\n",
       "      <th>LAYING</th>\n",
       "      <td>1407</td>\n",
       "    </tr>\n",
       "    <tr>\n",
       "      <th>SITTING</th>\n",
       "      <td>1286</td>\n",
       "    </tr>\n",
       "    <tr>\n",
       "      <th>STANDING</th>\n",
       "      <td>1374</td>\n",
       "    </tr>\n",
       "    <tr>\n",
       "      <th>WALKING</th>\n",
       "      <td>1226</td>\n",
       "    </tr>\n",
       "    <tr>\n",
       "      <th>WALKING_DOWNSTAIRS</th>\n",
       "      <td>986</td>\n",
       "    </tr>\n",
       "    <tr>\n",
       "      <th>WALKING_UPSTAIRS</th>\n",
       "      <td>1073</td>\n",
       "    </tr>\n",
       "  </tbody>\n",
       "</table>\n",
       "</div>"
      ],
      "text/plain": [
       "col_0               count\n",
       "Activity                 \n",
       "LAYING               1407\n",
       "SITTING              1286\n",
       "STANDING             1374\n",
       "WALKING              1226\n",
       "WALKING_DOWNSTAIRS    986\n",
       "WALKING_UPSTAIRS     1073"
      ]
     },
     "execution_count": 5,
     "metadata": {},
     "output_type": "execute_result"
    }
   ],
   "source": [
    "#Frequency distribution of classes\"\n",
    "train_outcome = pd.crosstab(index=train[\"Activity\"],  # Make a crosstab\n",
    "                              columns=\"count\")      # Name the count column\n",
    "\n",
    "train_outcome"
   ]
  },
  {
   "cell_type": "code",
   "execution_count": 6,
   "id": "38e84af3-8574-440a-964e-5b17deb36f1a",
   "metadata": {},
   "outputs": [
    {
     "data": {
      "image/png": "[encoded data removed]",
      "text/plain": [
       "<Figure size 640x480 with 1 Axes>"
      ]
     },
     "metadata": {},
     "output_type": "display_data"
    }
   ],
   "source": [
    "# Visualizing Outcome Distribution \n",
    "temp = train[\"Activity\"].value_counts()\n",
    "df = pd.DataFrame({'labels': temp.index,\n",
    "                   'values': temp.values\n",
    "                  })\n",
    "\n",
    "#df.plot(kind='pie',labels='labels',values='values', title='Activity Ditribution',subplots= \"True\")\n",
    "\n",
    "labels = df['labels']\n",
    "sizes = df['values']\n",
    "colors = ['yellowgreen', 'gold', 'lightskyblue', 'lightcoral','cyan','lightpink']\n",
    "patches, texts = plt.pie(sizes, colors=colors, shadow=True, startangle=90, pctdistance=1.1, labeldistance=1.2)\n",
    "plt.legend(patches, labels, loc=\"best\")\n",
    "plt.axis('equal')\n",
    "plt.tight_layout()\n",
    "plt.show()\n"
   ]
  },
  {
   "cell_type": "markdown",
   "id": "e446d4b6-7105-474c-bd5a-15c8aa398a75",
   "metadata": {},
   "source": [
    "Balance train & test dataset"
   ]
  },
  {
   "cell_type": "code",
   "execution_count": 7,
   "id": "57735142-b2df-403c-a205-39740980ac5a",
   "metadata": {},
   "outputs": [],
   "source": [
    "# 数据平衡\n",
    "train_sample_num = 166\n",
    "\n",
    "df_1 = train[train[\"Activity\"] == \"LAYING\"]\n",
    "df_2 = train[train[\"Activity\"] == \"SITTING\"]\n",
    "df_3 = train[train[\"Activity\"] == \"STANDING\"]\n",
    "df_4 = train[train[\"Activity\"] == \"WALKING\"]\n",
    "df_5 = train[train[\"Activity\"] == \"WALKING_DOWNSTAIRS\"]\n",
    "df_6 = train[train[\"Activity\"] == \"WALKING_UPSTAIRS\"]\n",
    "\n",
    "df_1_upsample = resample(df_1, replace=True, n_samples=train_sample_num, random_state=123)\n",
    "df_2_upsample = resample(df_2, replace=True, n_samples=train_sample_num, random_state=124)\n",
    "df_3_upsample = resample(df_3, replace=True, n_samples=train_sample_num, random_state=125)\n",
    "df_4_upsample = resample(df_4, replace=True, n_samples=train_sample_num, random_state=126)\n",
    "df_5_upsample = resample(df_5, replace=True, n_samples=train_sample_num, random_state=127)\n",
    "df_6_upsample = resample(df_6, replace=True, n_samples=train_sample_num, random_state=128)\n",
    "\n",
    "\n",
    "\n",
    "df = pd.concat([df_1_upsample, df_2_upsample, df_3_upsample, df_4_upsample,df_5_upsample,df_6_upsample])\n",
    "X_train = pd.DataFrame(df.drop(['Activity','subject'],axis=1))\n",
    "Y_train = df.Activity.values.astype(object)\n"
   ]
  },
  {
   "cell_type": "code",
   "execution_count": 8,
   "id": "621f8209-de90-48ef-839e-a77e079b3fbc",
   "metadata": {},
   "outputs": [],
   "source": [
    "# 数据平衡\n",
    "test_sample_num = 16\n",
    "\n",
    "df_1_test = test[test[\"Activity\"] == \"LAYING\"]\n",
    "df_2_test = test[test[\"Activity\"] == \"SITTING\"]\n",
    "df_3_test = test[test[\"Activity\"] == \"STANDING\"]\n",
    "df_4_test = test[test[\"Activity\"] == \"WALKING\"]\n",
    "df_5_test = test[test[\"Activity\"] == \"WALKING_DOWNSTAIRS\"]\n",
    "df_6_test = test[test[\"Activity\"] == \"WALKING_UPSTAIRS\"]\n",
    "\n",
    "df_1_upsample_test = resample(df_1_test, replace=True, n_samples=train_sample_num, random_state=123)\n",
    "df_2_upsample_test = resample(df_2_test, replace=True, n_samples=train_sample_num, random_state=124)\n",
    "df_3_upsample_test = resample(df_3_test, replace=True, n_samples=train_sample_num, random_state=125)\n",
    "df_4_upsample_test = resample(df_4_test, replace=True, n_samples=train_sample_num, random_state=126)\n",
    "df_5_upsample_test = resample(df_5_test, replace=True, n_samples=train_sample_num, random_state=127)\n",
    "df_6_upsample_test = resample(df_6_test, replace=True, n_samples=train_sample_num, random_state=128)\n",
    "\n",
    "\n",
    "\n",
    "df_test = pd.concat([df_1_upsample_test, df_2_upsample_test, df_3_upsample_test, df_4_upsample_test,df_5_upsample_test,df_6_upsample_test])\n",
    "X_test = pd.DataFrame(df_test.drop(['Activity','subject'],axis=1))\n",
    "Y_test = df.Activity.values.astype(object)\n"
   ]
  },
  {
   "cell_type": "code",
   "execution_count": 9,
   "id": "c88ae28f-4092-4e2b-9b5c-9b284dc96436",
   "metadata": {},
   "outputs": [],
   "source": [
    "def dtw_distance(x, y):\n",
    "    distance, path = fastdtw(x, y)\n",
    "    return distance\n",
    "\n",
    "# Define a function to compute the inverse_multiquadratic kernel using DTW distance\n",
    "def dtw_inverse_multiquadratic_kernel(X, Y, c):\n",
    "    dist_mat = cdist(X, Y, metric=dtw_distance)\n",
    "    # Transform DTW distances using polynomial kernel function\n",
    "    K = 1/np.sqrt(dist_mat**2+c**2)\n",
    "    return K"
   ]
  },
  {
   "cell_type": "code",
   "execution_count": 10,
   "id": "2bd48c4c-7238-41f7-9d16-f4bb68bc0a65",
   "metadata": {},
   "outputs": [],
   "source": [
    "# Compute the inverse_multiquadratic kernel with DTW distance for the training and testing sets\n",
    "c = 0.4\n",
    "\n",
    "start = time.time()\n",
    "K_train = dtw_inverse_multiquadratic_kernel(X_train, X_train, c)\n",
    "K_test =  dtw_inverse_multiquadratic_kernel(X_test, X_train, c)\n",
    "end = time.time()\n"
   ]
  },
  {
   "cell_type": "code",
   "execution_count": 11,
   "id": "cf49148b-6ac0-426f-81e1-f80558497318",
   "metadata": {},
   "outputs": [
    {
     "name": "stdout",
     "output_type": "stream",
     "text": [
      "Train: 996 Test: 96 Cal time: 1363.5819478034973\n",
      "Accuracy: 0.8032128514056225\n"
     ]
    }
   ],
   "source": [
    "print(\"Train:\", 6*train_sample_num, \"Test:\", 6*test_sample_num, \"Cal time:\", end-start)\n",
    "\n",
    "# Train SVM with combined kernel matrix\n",
    "model = SVC(kernel='precomputed')\n",
    "\n",
    "model.fit(K_train, Y_train)\n",
    "\n",
    "# Predict on new data\n",
    "y_pred = model.predict(K_test)\n",
    "\n",
    "print(\"Accuracy:\", np.mean(y_pred == Y_test)) # 0.81->1  0.78 -> 0.8 0.4 ->0.61"
   ]
  },
  {
   "cell_type": "code",
   "execution_count": 12,
   "id": "e174f651-fba0-4e22-b7f5-8a90cf792c72",
   "metadata": {},
   "outputs": [
    {
     "name": "stdout",
     "output_type": "stream",
     "text": [
      "<bound method ClassifierMixin.score of SVC(kernel='precomputed')>\n"
     ]
    }
   ],
   "source": [
    "print(model.score)"
   ]
  },
  {
   "cell_type": "code",
   "execution_count": 13,
   "id": "56378d00-8d71-4c44-9d8b-5031ba257b14",
   "metadata": {},
   "outputs": [
    {
     "data": {
      "text/plain": [
       "<AxesSubplot:>"
      ]
     },
     "execution_count": 13,
     "metadata": {},
     "output_type": "execute_result"
    },
    {
     "data": {
      "image/png": "[encoded data removed]",
      "text/plain": [
       "<Figure size 1000x600 with 2 Axes>"
      ]
     },
     "metadata": {},
     "output_type": "display_data"
    }
   ],
   "source": [
    "Y_prediction = model.predict(K_test)\n",
    "#image\n",
    "cm= confusion_matrix(Y_test,Y_prediction)\n",
    "index = ['LAYING','SITTING','STANDING','WALKING','WALKING_DOWNSTAIRS','WALKING_UPSTAIRS'] \n",
    "columns = ['LAYING','SITTING','STANDING','WALKING','WALKING_DOWNSTAIRS','WALKING_UPSTAIRS'] \n",
    "cm_df = pd.DataFrame(cm,columns,index) \n",
    "plt.figure(figsize=(10,6))  \n",
    "sns.heatmap(cm_df, annot=True,fmt=\"d\",cmap=\"YlGnBu\")"
   ]
  },
  {
   "cell_type": "code",
   "execution_count": null,
   "id": "f03c4914-e3e7-40db-bce3-9be89014fe80",
   "metadata": {},
   "outputs": [],
   "source": []
  }
 ],
 "metadata": {
  "kernelspec": {
   "display_name": "Python 3 (ipykernel)",
   "language": "python",
   "name": "python3"
  },
  "language_info": {
   "codemirror_mode": {
    "name": "ipython",
    "version": 3
   },
   "file_extension": ".py",
   "mimetype": "text/x-python",
   "name": "python",
   "nbconvert_exporter": "python",
   "pygments_lexer": "ipython3",
   "version": "3.9.13"
  }
 },
 "nbformat": 4,
 "nbformat_minor": 5
}
