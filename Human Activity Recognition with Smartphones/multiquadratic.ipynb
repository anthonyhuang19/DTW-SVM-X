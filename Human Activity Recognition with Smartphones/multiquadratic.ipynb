{
 "cells": [
  {
   "cell_type": "markdown",
   "id": "17662b33-62b8-457b-8b3e-7f50127ab563",
   "metadata": {},
   "source": [
    "Human Activity Recognition with Smartphones"
   ]
  },
  {
   "cell_type": "code",
   "execution_count": 40,
   "id": "cfb8b101-a05e-4dc2-b134-b60b50b8fded",
   "metadata": {},
   "outputs": [],
   "source": [
    "import numpy as np\n",
    "import pylab as pl\n",
    "import pandas as pd\n",
    "import matplotlib.pyplot as plt \n",
    "import seaborn as sns\n",
    "from sklearn.utils import shuffle\n",
    "from sklearn.svm import SVC\n",
    "from sklearn.metrics import confusion_matrix,classification_report\n",
    "from sklearn.model_selection import cross_val_score, GridSearchCV\n",
    "from sklearn.utils import resample\n",
    "import time\n",
    "from scipy.spatial.distance import cdist\n",
    "from fastdtw import fastdtw"
   ]
  },
  {
   "cell_type": "markdown",
   "id": "66722de3-e926-4004-8f67-80b57bba23ab",
   "metadata": {},
   "source": [
    "Input train and testing dataset"
   ]
  },
  {
   "cell_type": "code",
   "execution_count": 41,
   "id": "35352888-ab4b-4c9c-8a0c-d47adad2e51c",
   "metadata": {},
   "outputs": [],
   "source": [
    "train = shuffle(pd.read_csv(\"train.csv\"))\n",
    "test = shuffle(pd.read_csv(\"test.csv\"))"
   ]
  },
  {
   "cell_type": "code",
   "execution_count": 42,
   "id": "dd45bb00-9e80-4e1b-b591-1fc0a22783b7",
   "metadata": {},
   "outputs": [
    {
     "data": {
      "text/html": [
       "<div>\n",
       "<style scoped>\n",
       "    .dataframe tbody tr th:only-of-type {\n",
       "        vertical-align: middle;\n",
       "    }\n",
       "\n",
       "    .dataframe tbody tr th {\n",
       "        vertical-align: top;\n",
       "    }\n",
       "\n",
       "    .dataframe thead th {\n",
       "        text-align: right;\n",
       "    }\n",
       "</style>\n",
       "<table border=\"1\" class=\"dataframe\">\n",
       "  <thead>\n",
       "    <tr style=\"text-align: right;\">\n",
       "      <th></th>\n",
       "      <th>tBodyAcc-mean()-X</th>\n",
       "      <th>tBodyAcc-mean()-Y</th>\n",
       "      <th>tBodyAcc-mean()-Z</th>\n",
       "      <th>tBodyAcc-std()-X</th>\n",
       "      <th>tBodyAcc-std()-Y</th>\n",
       "      <th>tBodyAcc-std()-Z</th>\n",
       "      <th>tBodyAcc-mad()-X</th>\n",
       "      <th>tBodyAcc-mad()-Y</th>\n",
       "      <th>tBodyAcc-mad()-Z</th>\n",
       "      <th>tBodyAcc-max()-X</th>\n",
       "      <th>...</th>\n",
       "      <th>fBodyBodyGyroJerkMag-kurtosis()</th>\n",
       "      <th>angle(tBodyAccMean,gravity)</th>\n",
       "      <th>angle(tBodyAccJerkMean),gravityMean)</th>\n",
       "      <th>angle(tBodyGyroMean,gravityMean)</th>\n",
       "      <th>angle(tBodyGyroJerkMean,gravityMean)</th>\n",
       "      <th>angle(X,gravityMean)</th>\n",
       "      <th>angle(Y,gravityMean)</th>\n",
       "      <th>angle(Z,gravityMean)</th>\n",
       "      <th>subject</th>\n",
       "      <th>Activity</th>\n",
       "    </tr>\n",
       "  </thead>\n",
       "  <tbody>\n",
       "    <tr>\n",
       "      <th>5665</th>\n",
       "      <td>0.257767</td>\n",
       "      <td>-0.016345</td>\n",
       "      <td>-0.072229</td>\n",
       "      <td>-0.199812</td>\n",
       "      <td>-0.116497</td>\n",
       "      <td>-0.480887</td>\n",
       "      <td>-0.315502</td>\n",
       "      <td>-0.102198</td>\n",
       "      <td>-0.483469</td>\n",
       "      <td>-0.045505</td>\n",
       "      <td>...</td>\n",
       "      <td>-0.486998</td>\n",
       "      <td>0.226226</td>\n",
       "      <td>-0.856307</td>\n",
       "      <td>-0.892945</td>\n",
       "      <td>-0.924135</td>\n",
       "      <td>-0.787514</td>\n",
       "      <td>0.244697</td>\n",
       "      <td>0.027569</td>\n",
       "      <td>26</td>\n",
       "      <td>WALKING_UPSTAIRS</td>\n",
       "    </tr>\n",
       "    <tr>\n",
       "      <th>1702</th>\n",
       "      <td>0.321216</td>\n",
       "      <td>0.006537</td>\n",
       "      <td>-0.136812</td>\n",
       "      <td>-0.262584</td>\n",
       "      <td>0.358115</td>\n",
       "      <td>-0.383714</td>\n",
       "      <td>-0.288792</td>\n",
       "      <td>0.224176</td>\n",
       "      <td>-0.389518</td>\n",
       "      <td>-0.043931</td>\n",
       "      <td>...</td>\n",
       "      <td>-0.696912</td>\n",
       "      <td>-0.214761</td>\n",
       "      <td>-0.434747</td>\n",
       "      <td>-0.514814</td>\n",
       "      <td>0.840682</td>\n",
       "      <td>-0.757628</td>\n",
       "      <td>0.264184</td>\n",
       "      <td>0.040357</td>\n",
       "      <td>8</td>\n",
       "      <td>WALKING</td>\n",
       "    </tr>\n",
       "    <tr>\n",
       "      <th>190</th>\n",
       "      <td>0.322363</td>\n",
       "      <td>0.034226</td>\n",
       "      <td>-0.057351</td>\n",
       "      <td>-0.969600</td>\n",
       "      <td>-0.799927</td>\n",
       "      <td>-0.896111</td>\n",
       "      <td>-0.969801</td>\n",
       "      <td>-0.774658</td>\n",
       "      <td>-0.882047</td>\n",
       "      <td>-0.897418</td>\n",
       "      <td>...</td>\n",
       "      <td>-0.675457</td>\n",
       "      <td>0.028867</td>\n",
       "      <td>0.003423</td>\n",
       "      <td>-0.054755</td>\n",
       "      <td>0.018214</td>\n",
       "      <td>-0.651247</td>\n",
       "      <td>0.336635</td>\n",
       "      <td>0.052067</td>\n",
       "      <td>1</td>\n",
       "      <td>STANDING</td>\n",
       "    </tr>\n",
       "    <tr>\n",
       "      <th>16</th>\n",
       "      <td>0.279038</td>\n",
       "      <td>-0.014800</td>\n",
       "      <td>-0.116849</td>\n",
       "      <td>-0.996941</td>\n",
       "      <td>-0.981866</td>\n",
       "      <td>-0.982577</td>\n",
       "      <td>-0.997220</td>\n",
       "      <td>-0.981620</td>\n",
       "      <td>-0.981336</td>\n",
       "      <td>-0.941716</td>\n",
       "      <td>...</td>\n",
       "      <td>-0.940421</td>\n",
       "      <td>-0.001446</td>\n",
       "      <td>-0.048110</td>\n",
       "      <td>-0.340473</td>\n",
       "      <td>-0.229155</td>\n",
       "      <td>-0.759172</td>\n",
       "      <td>0.264324</td>\n",
       "      <td>0.027014</td>\n",
       "      <td>1</td>\n",
       "      <td>STANDING</td>\n",
       "    </tr>\n",
       "    <tr>\n",
       "      <th>3998</th>\n",
       "      <td>0.276361</td>\n",
       "      <td>-0.018345</td>\n",
       "      <td>-0.106851</td>\n",
       "      <td>-0.993187</td>\n",
       "      <td>-0.979377</td>\n",
       "      <td>-0.991151</td>\n",
       "      <td>-0.993065</td>\n",
       "      <td>-0.978730</td>\n",
       "      <td>-0.990786</td>\n",
       "      <td>-0.938907</td>\n",
       "      <td>...</td>\n",
       "      <td>-0.866899</td>\n",
       "      <td>0.113569</td>\n",
       "      <td>-0.403093</td>\n",
       "      <td>-0.485179</td>\n",
       "      <td>0.819748</td>\n",
       "      <td>-0.595390</td>\n",
       "      <td>0.322915</td>\n",
       "      <td>0.184947</td>\n",
       "      <td>21</td>\n",
       "      <td>STANDING</td>\n",
       "    </tr>\n",
       "  </tbody>\n",
       "</table>\n",
       "<p>5 rows × 563 columns</p>\n",
       "</div>"
      ],
      "text/plain": [
       "      tBodyAcc-mean()-X  tBodyAcc-mean()-Y  tBodyAcc-mean()-Z  \\\n",
       "5665           0.257767          -0.016345          -0.072229   \n",
       "1702           0.321216           0.006537          -0.136812   \n",
       "190            0.322363           0.034226          -0.057351   \n",
       "16             0.279038          -0.014800          -0.116849   \n",
       "3998           0.276361          -0.018345          -0.106851   \n",
       "\n",
       "      tBodyAcc-std()-X  tBodyAcc-std()-Y  tBodyAcc-std()-Z  tBodyAcc-mad()-X  \\\n",
       "5665         -0.199812         -0.116497         -0.480887         -0.315502   \n",
       "1702         -0.262584          0.358115         -0.383714         -0.288792   \n",
       "190          -0.969600         -0.799927         -0.896111         -0.969801   \n",
       "16           -0.996941         -0.981866         -0.982577         -0.997220   \n",
       "3998         -0.993187         -0.979377         -0.991151         -0.993065   \n",
       "\n",
       "      tBodyAcc-mad()-Y  tBodyAcc-mad()-Z  tBodyAcc-max()-X  ...  \\\n",
       "5665         -0.102198         -0.483469         -0.045505  ...   \n",
       "1702          0.224176         -0.389518         -0.043931  ...   \n",
       "190          -0.774658         -0.882047         -0.897418  ...   \n",
       "16           -0.981620         -0.981336         -0.941716  ...   \n",
       "3998         -0.978730         -0.990786         -0.938907  ...   \n",
       "\n",
       "      fBodyBodyGyroJerkMag-kurtosis()  angle(tBodyAccMean,gravity)  \\\n",
       "5665                        -0.486998                     0.226226   \n",
       "1702                        -0.696912                    -0.214761   \n",
       "190                         -0.675457                     0.028867   \n",
       "16                          -0.940421                    -0.001446   \n",
       "3998                        -0.866899                     0.113569   \n",
       "\n",
       "      angle(tBodyAccJerkMean),gravityMean)  angle(tBodyGyroMean,gravityMean)  \\\n",
       "5665                             -0.856307                         -0.892945   \n",
       "1702                             -0.434747                         -0.514814   \n",
       "190                               0.003423                         -0.054755   \n",
       "16                               -0.048110                         -0.340473   \n",
       "3998                             -0.403093                         -0.485179   \n",
       "\n",
       "      angle(tBodyGyroJerkMean,gravityMean)  angle(X,gravityMean)  \\\n",
       "5665                             -0.924135             -0.787514   \n",
       "1702                              0.840682             -0.757628   \n",
       "190                               0.018214             -0.651247   \n",
       "16                               -0.229155             -0.759172   \n",
       "3998                              0.819748             -0.595390   \n",
       "\n",
       "      angle(Y,gravityMean)  angle(Z,gravityMean)  subject          Activity  \n",
       "5665              0.244697              0.027569       26  WALKING_UPSTAIRS  \n",
       "1702              0.264184              0.040357        8           WALKING  \n",
       "190               0.336635              0.052067        1          STANDING  \n",
       "16                0.264324              0.027014        1          STANDING  \n",
       "3998              0.322915              0.184947       21          STANDING  \n",
       "\n",
       "[5 rows x 563 columns]"
      ]
     },
     "execution_count": 42,
     "metadata": {},
     "output_type": "execute_result"
    }
   ],
   "source": [
    "train.head()"
   ]
  },
  {
   "cell_type": "markdown",
   "id": "f4313751-7271-4e3a-9938-6756b02a7af3",
   "metadata": {},
   "source": [
    "Check for missing values in the dataset"
   ]
  },
  {
   "cell_type": "code",
   "execution_count": 43,
   "id": "5399c54a-7f95-4385-b32e-363a12116b3d",
   "metadata": {},
   "outputs": [
    {
     "name": "stdout",
     "output_type": "stream",
     "text": [
      "Any missing sample in training set: False\n",
      "Any missing sample in test set: False \n",
      "\n"
     ]
    }
   ],
   "source": [
    "print(\"Any missing sample in training set:\",train.isnull().values.any())\n",
    "print(\"Any missing sample in test set:\",test.isnull().values.any(), \"\\n\")"
   ]
  },
  {
   "cell_type": "markdown",
   "id": "034a7f34-3c55-4f3f-82d6-d12d9714db7a",
   "metadata": {},
   "source": [
    "Frequency Distribution of the Outome"
   ]
  },
  {
   "cell_type": "code",
   "execution_count": 44,
   "id": "01ea03e4-65f7-4ecc-9ae1-5aa04d459299",
   "metadata": {},
   "outputs": [
    {
     "data": {
      "text/html": [
       "<div>\n",
       "<style scoped>\n",
       "    .dataframe tbody tr th:only-of-type {\n",
       "        vertical-align: middle;\n",
       "    }\n",
       "\n",
       "    .dataframe tbody tr th {\n",
       "        vertical-align: top;\n",
       "    }\n",
       "\n",
       "    .dataframe thead th {\n",
       "        text-align: right;\n",
       "    }\n",
       "</style>\n",
       "<table border=\"1\" class=\"dataframe\">\n",
       "  <thead>\n",
       "    <tr style=\"text-align: right;\">\n",
       "      <th>col_0</th>\n",
       "      <th>count</th>\n",
       "    </tr>\n",
       "    <tr>\n",
       "      <th>Activity</th>\n",
       "      <th></th>\n",
       "    </tr>\n",
       "  </thead>\n",
       "  <tbody>\n",
       "    <tr>\n",
       "      <th>LAYING</th>\n",
       "      <td>1407</td>\n",
       "    </tr>\n",
       "    <tr>\n",
       "      <th>SITTING</th>\n",
       "      <td>1286</td>\n",
       "    </tr>\n",
       "    <tr>\n",
       "      <th>STANDING</th>\n",
       "      <td>1374</td>\n",
       "    </tr>\n",
       "    <tr>\n",
       "      <th>WALKING</th>\n",
       "      <td>1226</td>\n",
       "    </tr>\n",
       "    <tr>\n",
       "      <th>WALKING_DOWNSTAIRS</th>\n",
       "      <td>986</td>\n",
       "    </tr>\n",
       "    <tr>\n",
       "      <th>WALKING_UPSTAIRS</th>\n",
       "      <td>1073</td>\n",
       "    </tr>\n",
       "  </tbody>\n",
       "</table>\n",
       "</div>"
      ],
      "text/plain": [
       "col_0               count\n",
       "Activity                 \n",
       "LAYING               1407\n",
       "SITTING              1286\n",
       "STANDING             1374\n",
       "WALKING              1226\n",
       "WALKING_DOWNSTAIRS    986\n",
       "WALKING_UPSTAIRS     1073"
      ]
     },
     "execution_count": 44,
     "metadata": {},
     "output_type": "execute_result"
    }
   ],
   "source": [
    "#Frequency distribution of classes\"\n",
    "train_outcome = pd.crosstab(index=train[\"Activity\"],  # Make a crosstab\n",
    "                              columns=\"count\")      # Name the count column\n",
    "\n",
    "train_outcome"
   ]
  },
  {
   "cell_type": "code",
   "execution_count": 45,
   "id": "38e84af3-8574-440a-964e-5b17deb36f1a",
   "metadata": {},
   "outputs": [
    {
     "data": {
      "image/png": "[encoded data removed]",
      "text/plain": [
       "<Figure size 640x480 with 1 Axes>"
      ]
     },
     "metadata": {},
     "output_type": "display_data"
    }
   ],
   "source": [
    "# Visualizing Outcome Distribution \n",
    "temp = train[\"Activity\"].value_counts()\n",
    "df = pd.DataFrame({'labels': temp.index,\n",
    "                   'values': temp.values\n",
    "                  })\n",
    "\n",
    "#df.plot(kind='pie',labels='labels',values='values', title='Activity Ditribution',subplots= \"True\")\n",
    "\n",
    "labels = df['labels']\n",
    "sizes = df['values']\n",
    "colors = ['yellowgreen', 'gold', 'lightskyblue', 'lightcoral','cyan','lightpink']\n",
    "patches, texts = plt.pie(sizes, colors=colors, shadow=True, startangle=90, pctdistance=1.1, labeldistance=1.2)\n",
    "plt.legend(patches, labels, loc=\"best\")\n",
    "plt.axis('equal')\n",
    "plt.tight_layout()\n",
    "plt.show()\n"
   ]
  },
  {
   "cell_type": "markdown",
   "id": "e446d4b6-7105-474c-bd5a-15c8aa398a75",
   "metadata": {},
   "source": [
    "Balance train & test dataset"
   ]
  },
  {
   "cell_type": "code",
   "execution_count": 46,
   "id": "57735142-b2df-403c-a205-39740980ac5a",
   "metadata": {},
   "outputs": [],
   "source": [
    "# 数据平衡\n",
    "train_sample_num = 166\n",
    "\n",
    "df_1 = train[train[\"Activity\"] == \"LAYING\"]\n",
    "df_2 = train[train[\"Activity\"] == \"SITTING\"]\n",
    "df_3 = train[train[\"Activity\"] == \"STANDING\"]\n",
    "df_4 = train[train[\"Activity\"] == \"WALKING\"]\n",
    "df_5 = train[train[\"Activity\"] == \"WALKING_DOWNSTAIRS\"]\n",
    "df_6 = train[train[\"Activity\"] == \"WALKING_UPSTAIRS\"]\n",
    "\n",
    "df_1_upsample = resample(df_1, replace=True, n_samples=train_sample_num, random_state=123)\n",
    "df_2_upsample = resample(df_2, replace=True, n_samples=train_sample_num, random_state=124)\n",
    "df_3_upsample = resample(df_3, replace=True, n_samples=train_sample_num, random_state=125)\n",
    "df_4_upsample = resample(df_4, replace=True, n_samples=train_sample_num, random_state=126)\n",
    "df_5_upsample = resample(df_5, replace=True, n_samples=train_sample_num, random_state=127)\n",
    "df_6_upsample = resample(df_6, replace=True, n_samples=train_sample_num, random_state=128)\n",
    "\n",
    "\n",
    "\n",
    "df = pd.concat([df_1_upsample, df_2_upsample, df_3_upsample, df_4_upsample,df_5_upsample,df_6_upsample])\n",
    "X_train = pd.DataFrame(df.drop(['Activity','subject'],axis=1))\n",
    "Y_train = df.Activity.values.astype(object)\n"
   ]
  },
  {
   "cell_type": "code",
   "execution_count": 47,
   "id": "621f8209-de90-48ef-839e-a77e079b3fbc",
   "metadata": {},
   "outputs": [],
   "source": [
    "# 数据平衡\n",
    "test_sample_num = 16\n",
    "\n",
    "df_1_test = test[test[\"Activity\"] == \"LAYING\"]\n",
    "df_2_test = test[test[\"Activity\"] == \"SITTING\"]\n",
    "df_3_test = test[test[\"Activity\"] == \"STANDING\"]\n",
    "df_4_test = test[test[\"Activity\"] == \"WALKING\"]\n",
    "df_5_test = test[test[\"Activity\"] == \"WALKING_DOWNSTAIRS\"]\n",
    "df_6_test = test[test[\"Activity\"] == \"WALKING_UPSTAIRS\"]\n",
    "\n",
    "df_1_upsample_test = resample(df_1_test, replace=True, n_samples=train_sample_num, random_state=123)\n",
    "df_2_upsample_test = resample(df_2_test, replace=True, n_samples=train_sample_num, random_state=124)\n",
    "df_3_upsample_test = resample(df_3_test, replace=True, n_samples=train_sample_num, random_state=125)\n",
    "df_4_upsample_test = resample(df_4_test, replace=True, n_samples=train_sample_num, random_state=126)\n",
    "df_5_upsample_test = resample(df_5_test, replace=True, n_samples=train_sample_num, random_state=127)\n",
    "df_6_upsample_test = resample(df_6_test, replace=True, n_samples=train_sample_num, random_state=128)\n",
    "\n",
    "\n",
    "\n",
    "df_test = pd.concat([df_1_upsample_test, df_2_upsample_test, df_3_upsample_test, df_4_upsample_test,df_5_upsample_test,df_6_upsample_test])\n",
    "X_test = pd.DataFrame(df_test.drop(['Activity','subject'],axis=1))\n",
    "Y_test = df.Activity.values.astype(object)\n"
   ]
  },
  {
   "cell_type": "code",
   "execution_count": 1,
   "id": "c88ae28f-4092-4e2b-9b5c-9b284dc96436",
   "metadata": {},
   "outputs": [],
   "source": [
    "def dtw_distance(x, y):\n",
    "    distance, path = fastdtw(x, y)\n",
    "    return distance\n",
    "\n",
    "# Define a function to compute the multiquadratic kernel using DTW distance\n",
    "def dtw_multiquadratic_kernel(X, Y, c):\n",
    "    dist_mat = cdist(X, Y, metric=dtw_distance)\n",
    "    kernel_math = np.sqrt(dist_mat**2+c)\n",
    "    return kernel_math"
   ]
  },
  {
   "cell_type": "code",
   "execution_count": 49,
   "id": "2bd48c4c-7238-41f7-9d16-f4bb68bc0a65",
   "metadata": {},
   "outputs": [],
   "source": [
    "# Compute the multiquadratic kernel with DTW distance for the training and testing sets\n",
    "c = 1\n",
    "\n",
    "start = time.time()\n",
    "K_train = dtw_multiquadratic_kernel(X_train, X_train, c)\n",
    "K_test =  dtw_multiquadratic_kernel(X_test, X_train, c)\n",
    "end = time.time()\n"
   ]
  },
  {
   "cell_type": "code",
   "execution_count": 50,
   "id": "cf49148b-6ac0-426f-81e1-f80558497318",
   "metadata": {},
   "outputs": [
    {
     "name": "stdout",
     "output_type": "stream",
     "text": [
      "Train: 996 Test: 96 Cal time: 1058.8182439804077\n",
      "Accuracy: 0.001004016064257028\n"
     ]
    }
   ],
   "source": [
    "print(\"Train:\", 6*train_sample_num, \"Test:\", 6*test_sample_num, \"Cal time:\", end-start)\n",
    "\n",
    "# Train SVM with combined kernel matrix\n",
    "model = SVC(kernel='precomputed')\n",
    "\n",
    "model.fit(K_train, Y_train)\n",
    "\n",
    "# Predict on new data\n",
    "y_pred = model.predict(K_test)\n",
    "\n",
    "print(\"Accuracy:\", np.mean(y_pred == Y_test)) # 0.81->1  0.78 -> 0.8 0.4 ->0.61"
   ]
  },
  {
   "cell_type": "code",
   "execution_count": 51,
   "id": "e174f651-fba0-4e22-b7f5-8a90cf792c72",
   "metadata": {},
   "outputs": [
    {
     "name": "stdout",
     "output_type": "stream",
     "text": [
      "<bound method ClassifierMixin.score of SVC(kernel='precomputed')>\n"
     ]
    }
   ],
   "source": [
    "print(model.score)"
   ]
  },
  {
   "cell_type": "code",
   "execution_count": 52,
   "id": "56378d00-8d71-4c44-9d8b-5031ba257b14",
   "metadata": {},
   "outputs": [
    {
     "data": {
      "text/plain": [
       "<AxesSubplot:>"
      ]
     },
     "execution_count": 52,
     "metadata": {},
     "output_type": "execute_result"
    },
    {
     "data": {
      "image/png": "[encoded data removed]",
      "text/plain": [
       "<Figure size 1000x600 with 2 Axes>"
      ]
     },
     "metadata": {},
     "output_type": "display_data"
    }
   ],
   "source": [
    "Y_prediction = model.predict(K_test)\n",
    "#image\n",
    "cm= confusion_matrix(Y_test,Y_prediction)\n",
    "index = ['LAYING','SITTING','STANDING','WALKING','WALKING_DOWNSTAIRS','WALKING_UPSTAIRS'] \n",
    "columns = ['LAYING','SITTING','STANDING','WALKING','WALKING_DOWNSTAIRS','WALKING_UPSTAIRS'] \n",
    "cm_df = pd.DataFrame(cm,columns,index) \n",
    "plt.figure(figsize=(10,6))  \n",
    "sns.heatmap(cm_df, annot=True,fmt=\"d\",cmap=\"YlGnBu\")"
   ]
  },
  {
   "cell_type": "code",
   "execution_count": null,
   "id": "54bc6cfb-9382-42f9-b7ad-70c58a43bff6",
   "metadata": {},
   "outputs": [],
   "source": []
  }
 ],
 "metadata": {
  "kernelspec": {
   "display_name": "Python 3 (ipykernel)",
   "language": "python",
   "name": "python3"
  },
  "language_info": {
   "codemirror_mode": {
    "name": "ipython",
    "version": 3
   },
   "file_extension": ".py",
   "mimetype": "text/x-python",
   "name": "python",
   "nbconvert_exporter": "python",
   "pygments_lexer": "ipython3",
   "version": "3.9.13"
  }
 },
 "nbformat": 4,
 "nbformat_minor": 5
}
