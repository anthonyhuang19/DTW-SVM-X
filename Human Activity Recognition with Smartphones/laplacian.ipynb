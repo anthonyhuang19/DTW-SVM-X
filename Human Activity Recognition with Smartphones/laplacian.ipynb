{
 "cells": [
  {
   "cell_type": "markdown",
   "id": "17662b33-62b8-457b-8b3e-7f50127ab563",
   "metadata": {},
   "source": [
    "Human Activity Recognition with Smartphones"
   ]
  },
  {
   "cell_type": "code",
   "execution_count": 27,
   "id": "cfb8b101-a05e-4dc2-b134-b60b50b8fded",
   "metadata": {},
   "outputs": [],
   "source": [
    "import numpy as np\n",
    "import pylab as pl\n",
    "import pandas as pd\n",
    "import matplotlib.pyplot as plt \n",
    "import seaborn as sns\n",
    "from sklearn.utils import shuffle\n",
    "from sklearn.svm import SVC\n",
    "from sklearn.metrics import confusion_matrix,classification_report\n",
    "from sklearn.model_selection import cross_val_score, GridSearchCV\n",
    "from sklearn.utils import resample\n",
    "import time\n",
    "from scipy.spatial.distance import cdist\n",
    "from fastdtw import fastdtw"
   ]
  },
  {
   "cell_type": "markdown",
   "id": "66722de3-e926-4004-8f67-80b57bba23ab",
   "metadata": {},
   "source": [
    "Input train and testing dataset"
   ]
  },
  {
   "cell_type": "code",
   "execution_count": 28,
   "id": "35352888-ab4b-4c9c-8a0c-d47adad2e51c",
   "metadata": {},
   "outputs": [],
   "source": [
    "train = shuffle(pd.read_csv(\"train.csv\"))\n",
    "test = shuffle(pd.read_csv(\"test.csv\"))"
   ]
  },
  {
   "cell_type": "code",
   "execution_count": 29,
   "id": "dd45bb00-9e80-4e1b-b591-1fc0a22783b7",
   "metadata": {},
   "outputs": [
    {
     "data": {
      "text/html": [
       "<div>\n",
       "<style scoped>\n",
       "    .dataframe tbody tr th:only-of-type {\n",
       "        vertical-align: middle;\n",
       "    }\n",
       "\n",
       "    .dataframe tbody tr th {\n",
       "        vertical-align: top;\n",
       "    }\n",
       "\n",
       "    .dataframe thead th {\n",
       "        text-align: right;\n",
       "    }\n",
       "</style>\n",
       "<table border=\"1\" class=\"dataframe\">\n",
       "  <thead>\n",
       "    <tr style=\"text-align: right;\">\n",
       "      <th></th>\n",
       "      <th>tBodyAcc-mean()-X</th>\n",
       "      <th>tBodyAcc-mean()-Y</th>\n",
       "      <th>tBodyAcc-mean()-Z</th>\n",
       "      <th>tBodyAcc-std()-X</th>\n",
       "      <th>tBodyAcc-std()-Y</th>\n",
       "      <th>tBodyAcc-std()-Z</th>\n",
       "      <th>tBodyAcc-mad()-X</th>\n",
       "      <th>tBodyAcc-mad()-Y</th>\n",
       "      <th>tBodyAcc-mad()-Z</th>\n",
       "      <th>tBodyAcc-max()-X</th>\n",
       "      <th>...</th>\n",
       "      <th>fBodyBodyGyroJerkMag-kurtosis()</th>\n",
       "      <th>angle(tBodyAccMean,gravity)</th>\n",
       "      <th>angle(tBodyAccJerkMean),gravityMean)</th>\n",
       "      <th>angle(tBodyGyroMean,gravityMean)</th>\n",
       "      <th>angle(tBodyGyroJerkMean,gravityMean)</th>\n",
       "      <th>angle(X,gravityMean)</th>\n",
       "      <th>angle(Y,gravityMean)</th>\n",
       "      <th>angle(Z,gravityMean)</th>\n",
       "      <th>subject</th>\n",
       "      <th>Activity</th>\n",
       "    </tr>\n",
       "  </thead>\n",
       "  <tbody>\n",
       "    <tr>\n",
       "      <th>3181</th>\n",
       "      <td>0.257437</td>\n",
       "      <td>-0.007809</td>\n",
       "      <td>-0.063160</td>\n",
       "      <td>-0.331211</td>\n",
       "      <td>-0.285972</td>\n",
       "      <td>-0.064323</td>\n",
       "      <td>-0.322822</td>\n",
       "      <td>-0.351913</td>\n",
       "      <td>-0.048424</td>\n",
       "      <td>-0.309591</td>\n",
       "      <td>...</td>\n",
       "      <td>-0.783694</td>\n",
       "      <td>0.241612</td>\n",
       "      <td>-0.532376</td>\n",
       "      <td>-0.590780</td>\n",
       "      <td>0.844573</td>\n",
       "      <td>-0.813331</td>\n",
       "      <td>0.021431</td>\n",
       "      <td>0.129012</td>\n",
       "      <td>16</td>\n",
       "      <td>WALKING</td>\n",
       "    </tr>\n",
       "    <tr>\n",
       "      <th>4731</th>\n",
       "      <td>0.281495</td>\n",
       "      <td>-0.018006</td>\n",
       "      <td>-0.120176</td>\n",
       "      <td>-0.996434</td>\n",
       "      <td>-0.994569</td>\n",
       "      <td>-0.986318</td>\n",
       "      <td>-0.996443</td>\n",
       "      <td>-0.995156</td>\n",
       "      <td>-0.988347</td>\n",
       "      <td>-0.941349</td>\n",
       "      <td>...</td>\n",
       "      <td>-0.374030</td>\n",
       "      <td>0.019177</td>\n",
       "      <td>-0.021672</td>\n",
       "      <td>-0.220483</td>\n",
       "      <td>-0.110847</td>\n",
       "      <td>-0.711138</td>\n",
       "      <td>-0.049419</td>\n",
       "      <td>-0.124638</td>\n",
       "      <td>23</td>\n",
       "      <td>SITTING</td>\n",
       "    </tr>\n",
       "    <tr>\n",
       "      <th>192</th>\n",
       "      <td>0.273806</td>\n",
       "      <td>-0.019736</td>\n",
       "      <td>-0.119887</td>\n",
       "      <td>-0.998432</td>\n",
       "      <td>-0.977457</td>\n",
       "      <td>-0.981772</td>\n",
       "      <td>-0.998492</td>\n",
       "      <td>-0.976698</td>\n",
       "      <td>-0.978434</td>\n",
       "      <td>-0.945018</td>\n",
       "      <td>...</td>\n",
       "      <td>-0.856616</td>\n",
       "      <td>0.034157</td>\n",
       "      <td>0.098202</td>\n",
       "      <td>0.143246</td>\n",
       "      <td>-0.224820</td>\n",
       "      <td>-0.681250</td>\n",
       "      <td>0.316831</td>\n",
       "      <td>0.043942</td>\n",
       "      <td>1</td>\n",
       "      <td>STANDING</td>\n",
       "    </tr>\n",
       "    <tr>\n",
       "      <th>3268</th>\n",
       "      <td>0.282370</td>\n",
       "      <td>-0.016838</td>\n",
       "      <td>-0.106094</td>\n",
       "      <td>-0.992836</td>\n",
       "      <td>-0.959156</td>\n",
       "      <td>-0.985846</td>\n",
       "      <td>-0.992981</td>\n",
       "      <td>-0.958005</td>\n",
       "      <td>-0.984621</td>\n",
       "      <td>-0.936855</td>\n",
       "      <td>...</td>\n",
       "      <td>-0.916918</td>\n",
       "      <td>-0.333498</td>\n",
       "      <td>-0.101653</td>\n",
       "      <td>-0.423413</td>\n",
       "      <td>0.675421</td>\n",
       "      <td>-0.595352</td>\n",
       "      <td>0.217753</td>\n",
       "      <td>0.278840</td>\n",
       "      <td>17</td>\n",
       "      <td>STANDING</td>\n",
       "    </tr>\n",
       "    <tr>\n",
       "      <th>6466</th>\n",
       "      <td>0.285795</td>\n",
       "      <td>-0.009203</td>\n",
       "      <td>-0.089718</td>\n",
       "      <td>-0.992759</td>\n",
       "      <td>-0.982785</td>\n",
       "      <td>-0.978808</td>\n",
       "      <td>-0.994373</td>\n",
       "      <td>-0.982999</td>\n",
       "      <td>-0.979355</td>\n",
       "      <td>-0.929811</td>\n",
       "      <td>...</td>\n",
       "      <td>-0.937039</td>\n",
       "      <td>-0.002347</td>\n",
       "      <td>-0.078469</td>\n",
       "      <td>0.796209</td>\n",
       "      <td>0.878670</td>\n",
       "      <td>-0.746632</td>\n",
       "      <td>0.260104</td>\n",
       "      <td>0.086060</td>\n",
       "      <td>28</td>\n",
       "      <td>STANDING</td>\n",
       "    </tr>\n",
       "  </tbody>\n",
       "</table>\n",
       "<p>5 rows × 563 columns</p>\n",
       "</div>"
      ],
      "text/plain": [
       "      tBodyAcc-mean()-X  tBodyAcc-mean()-Y  tBodyAcc-mean()-Z  \\\n",
       "3181           0.257437          -0.007809          -0.063160   \n",
       "4731           0.281495          -0.018006          -0.120176   \n",
       "192            0.273806          -0.019736          -0.119887   \n",
       "3268           0.282370          -0.016838          -0.106094   \n",
       "6466           0.285795          -0.009203          -0.089718   \n",
       "\n",
       "      tBodyAcc-std()-X  tBodyAcc-std()-Y  tBodyAcc-std()-Z  tBodyAcc-mad()-X  \\\n",
       "3181         -0.331211         -0.285972         -0.064323         -0.322822   \n",
       "4731         -0.996434         -0.994569         -0.986318         -0.996443   \n",
       "192          -0.998432         -0.977457         -0.981772         -0.998492   \n",
       "3268         -0.992836         -0.959156         -0.985846         -0.992981   \n",
       "6466         -0.992759         -0.982785         -0.978808         -0.994373   \n",
       "\n",
       "      tBodyAcc-mad()-Y  tBodyAcc-mad()-Z  tBodyAcc-max()-X  ...  \\\n",
       "3181         -0.351913         -0.048424         -0.309591  ...   \n",
       "4731         -0.995156         -0.988347         -0.941349  ...   \n",
       "192          -0.976698         -0.978434         -0.945018  ...   \n",
       "3268         -0.958005         -0.984621         -0.936855  ...   \n",
       "6466         -0.982999         -0.979355         -0.929811  ...   \n",
       "\n",
       "      fBodyBodyGyroJerkMag-kurtosis()  angle(tBodyAccMean,gravity)  \\\n",
       "3181                        -0.783694                     0.241612   \n",
       "4731                        -0.374030                     0.019177   \n",
       "192                         -0.856616                     0.034157   \n",
       "3268                        -0.916918                    -0.333498   \n",
       "6466                        -0.937039                    -0.002347   \n",
       "\n",
       "      angle(tBodyAccJerkMean),gravityMean)  angle(tBodyGyroMean,gravityMean)  \\\n",
       "3181                             -0.532376                         -0.590780   \n",
       "4731                             -0.021672                         -0.220483   \n",
       "192                               0.098202                          0.143246   \n",
       "3268                             -0.101653                         -0.423413   \n",
       "6466                             -0.078469                          0.796209   \n",
       "\n",
       "      angle(tBodyGyroJerkMean,gravityMean)  angle(X,gravityMean)  \\\n",
       "3181                              0.844573             -0.813331   \n",
       "4731                             -0.110847             -0.711138   \n",
       "192                              -0.224820             -0.681250   \n",
       "3268                              0.675421             -0.595352   \n",
       "6466                              0.878670             -0.746632   \n",
       "\n",
       "      angle(Y,gravityMean)  angle(Z,gravityMean)  subject  Activity  \n",
       "3181              0.021431              0.129012       16   WALKING  \n",
       "4731             -0.049419             -0.124638       23   SITTING  \n",
       "192               0.316831              0.043942        1  STANDING  \n",
       "3268              0.217753              0.278840       17  STANDING  \n",
       "6466              0.260104              0.086060       28  STANDING  \n",
       "\n",
       "[5 rows x 563 columns]"
      ]
     },
     "execution_count": 29,
     "metadata": {},
     "output_type": "execute_result"
    }
   ],
   "source": [
    "train.head()"
   ]
  },
  {
   "cell_type": "markdown",
   "id": "f4313751-7271-4e3a-9938-6756b02a7af3",
   "metadata": {},
   "source": [
    "Check for missing values in the dataset"
   ]
  },
  {
   "cell_type": "code",
   "execution_count": 30,
   "id": "5399c54a-7f95-4385-b32e-363a12116b3d",
   "metadata": {},
   "outputs": [
    {
     "name": "stdout",
     "output_type": "stream",
     "text": [
      "Any missing sample in training set: False\n",
      "Any missing sample in test set: False \n",
      "\n"
     ]
    }
   ],
   "source": [
    "print(\"Any missing sample in training set:\",train.isnull().values.any())\n",
    "print(\"Any missing sample in test set:\",test.isnull().values.any(), \"\\n\")"
   ]
  },
  {
   "cell_type": "markdown",
   "id": "034a7f34-3c55-4f3f-82d6-d12d9714db7a",
   "metadata": {},
   "source": [
    "Frequency Distribution of the Outome"
   ]
  },
  {
   "cell_type": "code",
   "execution_count": 31,
   "id": "01ea03e4-65f7-4ecc-9ae1-5aa04d459299",
   "metadata": {},
   "outputs": [
    {
     "data": {
      "text/html": [
       "<div>\n",
       "<style scoped>\n",
       "    .dataframe tbody tr th:only-of-type {\n",
       "        vertical-align: middle;\n",
       "    }\n",
       "\n",
       "    .dataframe tbody tr th {\n",
       "        vertical-align: top;\n",
       "    }\n",
       "\n",
       "    .dataframe thead th {\n",
       "        text-align: right;\n",
       "    }\n",
       "</style>\n",
       "<table border=\"1\" class=\"dataframe\">\n",
       "  <thead>\n",
       "    <tr style=\"text-align: right;\">\n",
       "      <th>col_0</th>\n",
       "      <th>count</th>\n",
       "    </tr>\n",
       "    <tr>\n",
       "      <th>Activity</th>\n",
       "      <th></th>\n",
       "    </tr>\n",
       "  </thead>\n",
       "  <tbody>\n",
       "    <tr>\n",
       "      <th>LAYING</th>\n",
       "      <td>1407</td>\n",
       "    </tr>\n",
       "    <tr>\n",
       "      <th>SITTING</th>\n",
       "      <td>1286</td>\n",
       "    </tr>\n",
       "    <tr>\n",
       "      <th>STANDING</th>\n",
       "      <td>1374</td>\n",
       "    </tr>\n",
       "    <tr>\n",
       "      <th>WALKING</th>\n",
       "      <td>1226</td>\n",
       "    </tr>\n",
       "    <tr>\n",
       "      <th>WALKING_DOWNSTAIRS</th>\n",
       "      <td>986</td>\n",
       "    </tr>\n",
       "    <tr>\n",
       "      <th>WALKING_UPSTAIRS</th>\n",
       "      <td>1073</td>\n",
       "    </tr>\n",
       "  </tbody>\n",
       "</table>\n",
       "</div>"
      ],
      "text/plain": [
       "col_0               count\n",
       "Activity                 \n",
       "LAYING               1407\n",
       "SITTING              1286\n",
       "STANDING             1374\n",
       "WALKING              1226\n",
       "WALKING_DOWNSTAIRS    986\n",
       "WALKING_UPSTAIRS     1073"
      ]
     },
     "execution_count": 31,
     "metadata": {},
     "output_type": "execute_result"
    }
   ],
   "source": [
    "#Frequency distribution of classes\"\n",
    "train_outcome = pd.crosstab(index=train[\"Activity\"],  # Make a crosstab\n",
    "                              columns=\"count\")      # Name the count column\n",
    "\n",
    "train_outcome"
   ]
  },
  {
   "cell_type": "code",
   "execution_count": 32,
   "id": "38e84af3-8574-440a-964e-5b17deb36f1a",
   "metadata": {},
   "outputs": [
    {
     "data": {
      "image/png": "[encoded data removed]",
      "text/plain": [
       "<Figure size 640x480 with 1 Axes>"
      ]
     },
     "metadata": {},
     "output_type": "display_data"
    }
   ],
   "source": [
    "# Visualizing Outcome Distribution \n",
    "temp = train[\"Activity\"].value_counts()\n",
    "df = pd.DataFrame({'labels': temp.index,\n",
    "                   'values': temp.values\n",
    "                  })\n",
    "\n",
    "#df.plot(kind='pie',labels='labels',values='values', title='Activity Ditribution',subplots= \"True\")\n",
    "\n",
    "labels = df['labels']\n",
    "sizes = df['values']\n",
    "colors = ['yellowgreen', 'gold', 'lightskyblue', 'lightcoral','cyan','lightpink']\n",
    "patches, texts = plt.pie(sizes, colors=colors, shadow=True, startangle=90, pctdistance=1.1, labeldistance=1.2)\n",
    "plt.legend(patches, labels, loc=\"best\")\n",
    "plt.axis('equal')\n",
    "plt.tight_layout()\n",
    "plt.show()\n"
   ]
  },
  {
   "cell_type": "markdown",
   "id": "e446d4b6-7105-474c-bd5a-15c8aa398a75",
   "metadata": {},
   "source": [
    "Balance train & test dataset"
   ]
  },
  {
   "cell_type": "code",
   "execution_count": 33,
   "id": "57735142-b2df-403c-a205-39740980ac5a",
   "metadata": {},
   "outputs": [],
   "source": [
    "# 数据平衡\n",
    "train_sample_num = 166\n",
    "\n",
    "df_1 = train[train[\"Activity\"] == \"LAYING\"]\n",
    "df_2 = train[train[\"Activity\"] == \"SITTING\"]\n",
    "df_3 = train[train[\"Activity\"] == \"STANDING\"]\n",
    "df_4 = train[train[\"Activity\"] == \"WALKING\"]\n",
    "df_5 = train[train[\"Activity\"] == \"WALKING_DOWNSTAIRS\"]\n",
    "df_6 = train[train[\"Activity\"] == \"WALKING_UPSTAIRS\"]\n",
    "\n",
    "df_1_upsample = resample(df_1, replace=True, n_samples=train_sample_num, random_state=123)\n",
    "df_2_upsample = resample(df_2, replace=True, n_samples=train_sample_num, random_state=124)\n",
    "df_3_upsample = resample(df_3, replace=True, n_samples=train_sample_num, random_state=125)\n",
    "df_4_upsample = resample(df_4, replace=True, n_samples=train_sample_num, random_state=126)\n",
    "df_5_upsample = resample(df_5, replace=True, n_samples=train_sample_num, random_state=127)\n",
    "df_6_upsample = resample(df_6, replace=True, n_samples=train_sample_num, random_state=128)\n",
    "\n",
    "\n",
    "\n",
    "df = pd.concat([df_1_upsample, df_2_upsample, df_3_upsample, df_4_upsample,df_5_upsample,df_6_upsample])\n",
    "X_train = pd.DataFrame(df.drop(['Activity','subject'],axis=1))\n",
    "Y_train = df.Activity.values.astype(object)\n"
   ]
  },
  {
   "cell_type": "code",
   "execution_count": 34,
   "id": "621f8209-de90-48ef-839e-a77e079b3fbc",
   "metadata": {},
   "outputs": [],
   "source": [
    "# 数据平衡\n",
    "test_sample_num =16\n",
    "\n",
    "df_1_test = test[test[\"Activity\"] == \"LAYING\"]\n",
    "df_2_test = test[test[\"Activity\"] == \"SITTING\"]\n",
    "df_3_test = test[test[\"Activity\"] == \"STANDING\"]\n",
    "df_4_test = test[test[\"Activity\"] == \"WALKING\"]\n",
    "df_5_test = test[test[\"Activity\"] == \"WALKING_DOWNSTAIRS\"]\n",
    "df_6_test = test[test[\"Activity\"] == \"WALKING_UPSTAIRS\"]\n",
    "\n",
    "df_1_upsample_test = resample(df_1_test, replace=True, n_samples=train_sample_num, random_state=123)\n",
    "df_2_upsample_test = resample(df_2_test, replace=True, n_samples=train_sample_num, random_state=124)\n",
    "df_3_upsample_test = resample(df_3_test, replace=True, n_samples=train_sample_num, random_state=125)\n",
    "df_4_upsample_test = resample(df_4_test, replace=True, n_samples=train_sample_num, random_state=126)\n",
    "df_5_upsample_test = resample(df_5_test, replace=True, n_samples=train_sample_num, random_state=127)\n",
    "df_6_upsample_test = resample(df_6_test, replace=True, n_samples=train_sample_num, random_state=128)\n",
    "\n",
    "\n",
    "\n",
    "df_test = pd.concat([df_1_upsample_test, df_2_upsample_test, df_3_upsample_test, df_4_upsample_test,df_5_upsample_test,df_6_upsample_test])\n",
    "X_test = pd.DataFrame(df_test.drop(['Activity','subject'],axis=1))\n",
    "Y_test = df.Activity.values.astype(object)\n"
   ]
  },
  {
   "cell_type": "code",
   "execution_count": 35,
   "id": "c88ae28f-4092-4e2b-9b5c-9b284dc96436",
   "metadata": {},
   "outputs": [],
   "source": [
    "def dtw_distance(x, y):\n",
    "    distance, path = fastdtw(x, y)\n",
    "    return distance\n",
    "\n",
    "# Define a function to compute the laplacian kernel using DTW distance\n",
    "def dtw_laplacian_kernel(X, Y, sigma):\n",
    "    dist_mat = cdist(X, Y, metric=dtw_distance)\n",
    "    kernel_math = np.exp(-(dist_mat/sigma))\n",
    "    return kernel_math\n"
   ]
  },
  {
   "cell_type": "code",
   "execution_count": 36,
   "id": "2bd48c4c-7238-41f7-9d16-f4bb68bc0a65",
   "metadata": {},
   "outputs": [],
   "source": [
    "# Compute the laplacian kernel with DTW distance for the training and testing sets\n",
    "sigma = 700\n",
    "\n",
    "start = time.time()\n",
    "K_train = dtw_laplacian_kernel(X_train, X_train, sigma)\n",
    "K_test =  dtw_laplacian_kernel(X_test, X_train, sigma)\n",
    "end = time.time()\n"
   ]
  },
  {
   "cell_type": "code",
   "execution_count": 37,
   "id": "cf49148b-6ac0-426f-81e1-f80558497318",
   "metadata": {},
   "outputs": [
    {
     "name": "stdout",
     "output_type": "stream",
     "text": [
      "Train: 996 Test: 96 Cal time: 1375.274297952652\n",
      "Accuracy: 0.8273092369477911\n"
     ]
    }
   ],
   "source": [
    "print(\"Train:\", 6*train_sample_num, \"Test:\", 6*test_sample_num, \"Cal time:\", end-start)\n",
    "\n",
    "# Train SVM with combined kernel matrix\n",
    "model = SVC(kernel='precomputed')\n",
    "\n",
    "model.fit(K_train, Y_train)\n",
    "\n",
    "# Predict on new data\n",
    "y_pred = model.predict(K_test)\n",
    "\n",
    "print(\"Accuracy:\", np.mean(y_pred == Y_test)) # 0.81->1  0.78 -> 0.8 0.4 ->0.61"
   ]
  },
  {
   "cell_type": "code",
   "execution_count": 38,
   "id": "e174f651-fba0-4e22-b7f5-8a90cf792c72",
   "metadata": {},
   "outputs": [
    {
     "name": "stdout",
     "output_type": "stream",
     "text": [
      "<bound method ClassifierMixin.score of SVC(kernel='precomputed')>\n"
     ]
    }
   ],
   "source": [
    "print(model.score)"
   ]
  },
  {
   "cell_type": "code",
   "execution_count": 39,
   "id": "56378d00-8d71-4c44-9d8b-5031ba257b14",
   "metadata": {},
   "outputs": [
    {
     "data": {
      "text/plain": [
       "<AxesSubplot:>"
      ]
     },
     "execution_count": 39,
     "metadata": {},
     "output_type": "execute_result"
    },
    {
     "data": {
      "image/png": "[encoded data removed]",
      "text/plain": [
       "<Figure size 1000x600 with 2 Axes>"
      ]
     },
     "metadata": {},
     "output_type": "display_data"
    }
   ],
   "source": [
    "Y_prediction = model.predict(K_test)\n",
    "#image\n",
    "cm= confusion_matrix(Y_test,Y_prediction)\n",
    "index = ['LAYING','SITTING','STANDING','WALKING','WALKING_DOWNSTAIRS','WALKING_UPSTAIRS'] \n",
    "columns = ['LAYING','SITTING','STANDING','WALKING','WALKING_DOWNSTAIRS','WALKING_UPSTAIRS'] \n",
    "cm_df = pd.DataFrame(cm,columns,index) \n",
    "plt.figure(figsize=(10,6))  \n",
    "sns.heatmap(cm_df, annot=True,fmt=\"d\",cmap=\"YlGnBu\")"
   ]
  },
  {
   "cell_type": "code",
   "execution_count": null,
   "id": "0803b425-b052-44de-a5b8-2aad2f87fbdf",
   "metadata": {},
   "outputs": [],
   "source": []
  }
 ],
 "metadata": {
  "kernelspec": {
   "display_name": "Python 3 (ipykernel)",
   "language": "python",
   "name": "python3"
  },
  "language_info": {
   "codemirror_mode": {
    "name": "ipython",
    "version": 3
   },
   "file_extension": ".py",
   "mimetype": "text/x-python",
   "name": "python",
   "nbconvert_exporter": "python",
   "pygments_lexer": "ipython3",
   "version": "3.9.13"
  }
 },
 "nbformat": 4,
 "nbformat_minor": 5
}
